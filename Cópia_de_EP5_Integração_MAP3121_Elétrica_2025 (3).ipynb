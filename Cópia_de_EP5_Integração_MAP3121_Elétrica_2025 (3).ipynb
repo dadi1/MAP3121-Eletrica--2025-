{
  "nbformat": 4,
  "nbformat_minor": 0,
  "metadata": {
    "colab": {
      "provenance": []
    },
    "kernelspec": {
      "name": "python3",
      "display_name": "Python 3"
    },
    "language_info": {
      "name": "python"
    }
  },
  "cells": [
    {
      "cell_type": "code",
      "source": [
        "## importamos algumas bibliotecas que serão usadas\n",
        "import numpy as np  # Para um mínimo de matemática\n",
        "import matplotlib.pyplot as plt # Para gráficos\n",
        "import sys"
      ],
      "metadata": {
        "id": "G7dwA_z_EYex"
      },
      "execution_count": null,
      "outputs": []
    },
    {
      "cell_type": "markdown",
      "source": [
        "# MAP5729 - EP5: Integração numérica\n"
      ],
      "metadata": {
        "id": "WDIqGicPYNJ3"
      }
    },
    {
      "cell_type": "markdown",
      "source": [
        "**Nome: Narayan Shimanoe Lisboa**\n",
        "\n",
        "\n",
        "**Número USP: 14600141**\n",
        "\n",
        "**Turma: 2 (João)**"
      ],
      "metadata": {
        "id": "DbRiXO7aiX9b"
      }
    },
    {
      "cell_type": "markdown",
      "source": [
        "<p align = \"justify\">O objetivo deste EP é implementar métodos de integração numérica. Focaremos na fórmula dos trapézios composta, e, em particular, no método de extrapolação de Romberg, que permite definir recursivamente fórmulas de integração de ordem mais elevada. Aplicaremos esses métodos a um problema de cálculo de volumes. </p>\n",
        "\n",
        "**Orientações:**\n",
        "- Salve uma cópia deste notebook para editá-lo.\n",
        "- Utilize o índica à esquerda para identificar as questões que precisam ser respondidas.\n",
        "- As respostas das questões deverão ser respondidas nos espaços indicados abaixo.\n",
        "- Envie o link do seu notebook na página de entrega da atividade no Moodle da disciplina.\n",
        "- Data limite de entrega: **23/06**"
      ],
      "metadata": {
        "id": "G8Qd2l61Yo_O"
      }
    },
    {
      "cell_type": "markdown",
      "source": [
        "<font color='red'>\n",
        "IMPORTANTE: os problemas descritos neste EP dependem de parâmetros escolhidos em função de seu número USP.\n",
        "\n",
        "Complete e rode a célula abaixo para obter esses parâmetros$.\n",
        "</font>\n",
        "\n"
      ],
      "metadata": {
        "id": "YB2z3hUXiF5B"
      }
    },
    {
      "cell_type": "code",
      "source": [
        "nusp = 14600141\n",
        "\n",
        "\n",
        "xmax = nusp%10\n",
        "altura = 723. + nusp%100 * (735.-723.)/100\n",
        "\n",
        "print(\"Parâmetro xmax = \", xmax)\n",
        "print(\"Parâmetro altura = \", altura)"
      ],
      "metadata": {
        "id": "XPz0WSaIjkL0",
        "colab": {
          "base_uri": "https://localhost:8080/"
        },
        "outputId": "223884a9-0aed-4601-cd5a-2c5ed494b89b"
      },
      "execution_count": null,
      "outputs": [
        {
          "output_type": "stream",
          "name": "stdout",
          "text": [
            "Parâmetro xmax =  1\n",
            "Parâmetro altura =  727.92\n"
          ]
        }
      ]
    },
    {
      "cell_type": "markdown",
      "source": [
        "#Parte 1 - A fórmula dos trapézios\n"
      ],
      "metadata": {
        "id": "VRR6y81zxEud"
      }
    },
    {
      "cell_type": "markdown",
      "source": [
        "A fórmula dos trapézios aproxima a integral definida\n",
        "\n",
        "\\begin{equation}\n",
        "  \\int_a^b f(x)dx\n",
        "\\end{equation}\n",
        "\n",
        "onde $a \\neq b$, pela integral do único polinômio $p_1$ de grau menor ou igual a $1$ que interpola $f$ em $x_0 = a$ e $x_1 = b$. Temos\n",
        "\n",
        "\\begin{equation}\n",
        "  p_1(x) = \\frac{x-b}{a-b}f(a) + \\frac{x-a}{b-a}f(b)\n",
        "\\end{equation}\n",
        "\n",
        "Temos então\n",
        "\n",
        "\\begin{equation}\n",
        "  \\int_a^b f(x)dx \\approx \\int_a^b p_1(x) = \\frac{b-a}{2} \\left[f(a) + f(b)\\right]\n",
        "\\end{equation}\n"
      ],
      "metadata": {
        "id": "f8ZwmEX7xK3j"
      }
    },
    {
      "cell_type": "markdown",
      "source": [
        "## Questão 1.1.\n",
        "\n",
        "Implemente a função *integral_trapezio*, que recebe um vetor $[a,b]$, um vetor $[f(a),f(b)]$ e retorna a aproximação de $\\int_a^bf(x)dx$ dada pela fórmula dos trapézios."
      ],
      "metadata": {
        "id": "DN6jN6TJclwF"
      }
    },
    {
      "cell_type": "code",
      "source": [
        "def integral_trapezio(x,y):\n",
        "  \"\"\"\n",
        "  Calcula a aproximação de uma integral definida usando a fórmula do trapézio\n",
        "\n",
        "  Entradas:\n",
        "  - x: vetor com os pontos a e b (limites de integração)\n",
        "  - y: vetor com os valores de f(a) e f(b)\n",
        "\n",
        "  Saída:\n",
        "  - T: aproximação de int_a^bf(x)dx dada pela fórmula do trapézio\n",
        "  \"\"\"\n",
        "\n",
        "  T = (x[1] - x[0])/2 * (y[1] + y[0])\n",
        "\n",
        "  return T"
      ],
      "metadata": {
        "id": "4Q0VNjbtDmgV"
      },
      "execution_count": null,
      "outputs": []
    },
    {
      "cell_type": "markdown",
      "source": [
        "## Questão 1.2.\n",
        "\n",
        "Valide a implementação da função acima usando-a para aproximar as integrais:\n",
        "\n",
        "\\begin{equation}\n",
        "  \\int_0^{x_{max}} x dx, \\qquad \\int_0^{x_{max}} x^2 dx, \\qquad \\int_0^{x_{max}} e^x dx\n",
        "\\end{equation}\n",
        "\n",
        "onde $x_{max}$ é o parâmetro definido em função de seu número USP no começo deste EP. Em quais casos a fórmula dos trapézios fornece o valor exato da integral?\n",
        "\n",
        "**Resposta:** Apenas quando a função a ser entregrada é $f(x) = x$. Pois como a função já é um polinômio de grau 1, a aproximação é perfeita, e o resultado da integral é exato.\n",
        "Para as outras duas funções. Ambas são curvas, então ao paroximalas pelo méotodo do trapézio, ou seja, por uma linha reta, introduz um erro que reflena na diferença do resultado aproximado mostrado abaixo.\n"
      ],
      "metadata": {
        "id": "phlPs7qvD2jh"
      }
    },
    {
      "cell_type": "code",
      "source": [
        "## Vetor com os limites de integração\n",
        "a = 0\n",
        "b = xmax\n",
        "x = np.array([a,b])\n",
        "\n",
        "## Vetores com as ordenadas\n",
        "y1 = x       ## 1a integral\n",
        "y2 = x**2      ## 2a integral\n",
        "y3 = np.exp(x)      ## 3a integral\n",
        "\n",
        "## Integrais exatas\n",
        "ex1 = (b**2)/2 - (a**2)/2      ## 1a integral\n",
        "ex2 = (b**3)/3 - (a**3)/3 ## 2a integral\n",
        "ex3 = np.exp(b) - np.exp(a)     ## 3a integral\n",
        "\n",
        "## Integrais aproximadas\n",
        "T1 = integral_trapezio(x, y1)       ## 1a integral\n",
        "T2 = integral_trapezio(x, y2)       ## 2a integral\n",
        "T3 = integral_trapezio(x, y3)       ## 3a integral\n",
        "\n",
        "print(\"Integral 1 - exata: {}\".format(ex1))\n",
        "print(\"Integral 1 - aproximada: {}\".format(T1))\n",
        "print(\"\")\n",
        "print(\"Integral 2 - exata: {}\".format(ex2))\n",
        "print(\"Integral 2 - aproximada: {}\".format(T2))\n",
        "print(\"\")\n",
        "print(\"Integral 3 - exata: {}\".format(ex3))\n",
        "print(\"Integral 3 - aproximada: {}\".format(T3))"
      ],
      "metadata": {
        "id": "bPyng2FgD1bb",
        "colab": {
          "base_uri": "https://localhost:8080/"
        },
        "outputId": "375d2b84-dc4a-4a44-855f-b48237475d6e"
      },
      "execution_count": null,
      "outputs": [
        {
          "output_type": "stream",
          "name": "stdout",
          "text": [
            "Integral 1 - exata: 0.5\n",
            "Integral 1 - aproximada: 0.5\n",
            "\n",
            "Integral 2 - exata: 0.3333333333333333\n",
            "Integral 2 - aproximada: 0.5\n",
            "\n",
            "Integral 3 - exata: 1.718281828459045\n",
            "Integral 3 - aproximada: 1.8591409142295225\n"
          ]
        }
      ]
    },
    {
      "cell_type": "markdown",
      "source": [
        "Uma melhor aproximação pode ser obtida dividindo o intervalo $[a,b]$ em subintervalos e aplicando a fórmula do trapézio em cada um deles. Considere os $m+1$ pontos igualmente espaçados\n",
        "\n",
        "\\begin{equation}\n",
        "  x_i = a + ih, \\qquad i = 0, \\dots, m, \\qquad h = \\frac{b-a}{m}\n",
        "\\end{equation}\n",
        "\n",
        "A **fórmula de $m$-trapézios** é dada por\n",
        "\n",
        "\\begin{equation}\n",
        "  \\int_a^b f(x)dx  = \\sum_{i=1}^m \\int_{x_{i-1}}^{x_i} f(x)dx \\approx \\sum_{i=1}^m \\frac{x_{i}-x_{i-1}}{2} \\left[f(x_{i}) - f(x_{i-1})\\right] = \\frac{h}{2}\\sum_{i=1}^m \\left[f(x_{i}) - f(x_{i-1})\\right]\n",
        "\\end{equation}"
      ],
      "metadata": {
        "id": "i9OieReOdWe7"
      }
    },
    {
      "cell_type": "markdown",
      "source": [
        "## Questão 1.3.\n",
        "\n",
        "Complete a função *formula_trapezios_composta*, que recebe um vetor de pontos $[x_0, \\dots, x_m]$, o respectivo vetor de ordenadas $[f(x_0), \\dots, f(x_m)]$ e retorna a aproximação de $\\int_a^bf(x)dx$ dada pela fórmula dos $m$-trapézios. Sua função deve chamar a função *integral_trapezio* definida acima."
      ],
      "metadata": {
        "id": "p6bDXCr1ddU7"
      }
    },
    {
      "cell_type": "code",
      "source": [
        "def formula_trapezios_composta(x,y):\n",
        "  \"\"\"\n",
        "  Calcula a aproximação de uma integral definida por meio da fórmula dos m-trapézios\n",
        "\n",
        "  Entradas:\n",
        "  - x: vetor com m+1 pontos igualmente espaçados entre a e b, com x_0 = a e x_m = b\n",
        "  - y: vetor com m+1 valores de f(x)\n",
        "\n",
        "  Saída:\n",
        "  - T: aproximação de int_a^bf(x)dx dada pela fórmula dos m-trapézios\n",
        "  \"\"\"\n",
        "\n",
        "  T = 0\n",
        "  for i in range(1,len(x)):\n",
        "    T = T + integral_trapezio(x[i-1:i+1], y[i-1: i+1])\n",
        "\n",
        "  return T"
      ],
      "metadata": {
        "id": "ESBuyHowGZ7h"
      },
      "execution_count": null,
      "outputs": []
    },
    {
      "cell_type": "markdown",
      "source": [
        "## Questão 1.4.\n",
        "\n",
        "Valide a implementação da função acima usando-a para aproximar as integrais:\n",
        "\n",
        "\\begin{equation}\n",
        "  \\int_0^{x_{max}} x^2 dx, \\qquad \\int_0^{x_{max}} e^x dx\n",
        "\\end{equation}\n",
        "\n",
        "nos casos $m \\in \\{1,2,5,10,20\\}$. Verifique que o erro diminui à medida que $m$ aumenta.\n"
      ],
      "metadata": {
        "id": "kmhmcbikG_X3"
      }
    },
    {
      "cell_type": "code",
      "source": [
        "## Limites de integração\n",
        "a = 0\n",
        "b = xmax\n",
        "\n",
        "## Integrais exatas\n",
        "ex1 = (b**3)/3 - (a**3)/3 # em que a = 0.\n",
        "ex2 = np.exp(b) - np.exp(a)\n",
        "\n",
        "for m in [1,2,5,10,20]:\n",
        "\n",
        "  ## Pontos igualmente espaçados\n",
        "  h = (b-a)/m       ## passo\n",
        "  x = np.array([a + i*h for i in range(m+1)])   ## vetor de pontos\n",
        "\n",
        "  ## Vetor de ordenadas\n",
        "  y1 = x**2       ## 1a integral\n",
        "  y2 = np.exp(x)       ## 2a integral\n",
        "\n",
        "  ## Integrais aproximadas\n",
        "  T1 = formula_trapezios_composta(x,y1)       ## 1a integral\n",
        "  T2 = formula_trapezios_composta(x,y2)       ## 2a integral\n",
        "\n",
        "  print(\"Integral 1 - exata: {}\".format(ex1))\n",
        "  print(\"Integral 1 - m = {}: {}\".format(m,T1))\n",
        "  print(\"\")\n",
        "  print(\"Integral 2 - exata: {}\".format(ex2))\n",
        "  print(\"Integral 2 - m = {}: {}\".format(m,T2))\n",
        "  print(\"\")"
      ],
      "metadata": {
        "id": "Un3x_pLEIet8",
        "colab": {
          "base_uri": "https://localhost:8080/"
        },
        "outputId": "25311d8c-414c-4e83-f448-0af2ac871583"
      },
      "execution_count": null,
      "outputs": [
        {
          "output_type": "stream",
          "name": "stdout",
          "text": [
            "Integral 1 - exata: 0.3333333333333333\n",
            "Integral 1 - m = 1: 0.5\n",
            "\n",
            "Integral 2 - exata: 1.718281828459045\n",
            "Integral 2 - m = 1: 1.8591409142295225\n",
            "\n",
            "Integral 1 - exata: 0.3333333333333333\n",
            "Integral 1 - m = 2: 0.375\n",
            "\n",
            "Integral 2 - exata: 1.718281828459045\n",
            "Integral 2 - m = 2: 1.7539310924648255\n",
            "\n",
            "Integral 1 - exata: 0.3333333333333333\n",
            "Integral 1 - m = 5: 0.34\n",
            "\n",
            "Integral 2 - exata: 1.718281828459045\n",
            "Integral 2 - m = 5: 1.7240056197827878\n",
            "\n",
            "Integral 1 - exata: 0.3333333333333333\n",
            "Integral 1 - m = 10: 0.335\n",
            "\n",
            "Integral 2 - exata: 1.718281828459045\n",
            "Integral 2 - m = 10: 1.7197134913893146\n",
            "\n",
            "Integral 1 - exata: 0.3333333333333333\n",
            "Integral 1 - m = 20: 0.33375000000000005\n",
            "\n",
            "Integral 2 - exata: 1.718281828459045\n",
            "Integral 2 - m = 20: 1.718639788925221\n",
            "\n"
          ]
        }
      ]
    },
    {
      "cell_type": "markdown",
      "source": [
        "## Questão 1.5.\n",
        "\n",
        "Denote por $T(m)$ a aproximação de $\\int_a^b f(x)dx$ dada pela fórmula dos $m$-trapézios. Sabemos que o erro cometido nessa aproximação satisfaz\n",
        "\n",
        "\\begin{equation}\n",
        "  |E(m)| := \\left|\\int_a^b f(x)dx - T(m)\\right| \\leq \\frac{M_2}{12m^2}(b-a)^3 = \\frac{M_2}{12}(b-a)h^2   \n",
        "\\end{equation}\n",
        "\n",
        "onde $M_2 := \\max_{x \\in [a,b]} |f''(x)|$. Dizemos que a fórmula dos trapézios composta **converge com ordem $2$** para a integral exata, ou seja, à medida que o espaçamento $h$ entre os pontos equidistantes diminui, o erro diminui proporcionalmente a $h^2$. Denotamos $|E(m)| = \\mathcal{O}(h^2)$.\n",
        "\n",
        "A ordem de convergência pode ser estimada numericamente e comparada com seu valor teórico. Suponha que sejam feitas duas aproximações para $\\int_a^bf(x)dx$, com os números de intervalos $m_1 := (b-a)/h_1$ e $m_2 := (b-a)/h_2$, resultando nos respectivos erros $|E(m_1)|$ e $|E(m_2)|$. Se o método converge com ordem $p$, ou seja, $|E(m)| = \\mathcal{O}(h^p)$, então, para $h$ suficientemente pequeno, existe uma constante $C$ tal que\n",
        "\n",
        "\\begin{equation}\n",
        "  |E(m_1)| \\approx C h_1^p, \\qquad |E(m_2)| \\approx C h_2^p\n",
        "  \\tag{1}\n",
        "\\end{equation}\n",
        "\n",
        "\n",
        "\n",
        "A partir de (1), determine uma expressão permitindo estimar $p$. A seguir, complete a função *ordem_convergencia_numerica*, que recebe um vetor com tamanhos de passo $[h_1, \\dots, h_q]$ e um vetor com os respectivos erros $[E(m_1), \\dots, E(m_q)]$. Essa função estima e imprime $p$ para cada par de aproximações consecutivas, ou seja, a função estima valores de $p$ usando $E(m_1),E(m_2)$, usando $E(m_2),E(m_3)$, etc.\n",
        "\n",
        "**Resposta**:\n",
        "- Expressão para estimar $p$:\n",
        "\\begin{equation}\n",
        "  p = \\frac{\\ln(|E(m_1)|/|E(m_2)|)}{\\ln(h_1/h_2)}\n",
        "\\end{equation}"
      ],
      "metadata": {
        "id": "JIySHuWwKShj"
      }
    },
    {
      "cell_type": "code",
      "source": [
        "def ordem_convergencia_numerica(hs,erros):\n",
        "  \"\"\"\n",
        "  Estima a ordem de convergência de uma aproximação numérica\n",
        "  Uma estimativa de p é feita para cada par de erros consecutivos |E_{i-1}|, |E_{i}|,\n",
        "  correspondendo respectivamente aos passos $h_{i-1}$ e $h{i}$\n",
        "\n",
        "  Entradas:\n",
        "  - hs: vetor com os tamanhos de passo [h_1, ..., h_q]\n",
        "  - erros: vetor com os erros [E(m_1), ..., E(m_q)]\n",
        "  \"\"\"\n",
        "\n",
        "  print(\"Ordem de convergência estimada numericamente:\")\n",
        "  for i in range(1,len(hs)):\n",
        "    p_estimado = np.log(erros[i-1]/erros[i]) / np.log(hs[i-1]/hs[i])\n",
        "    print(\"p = {}\".format(p_estimado))"
      ],
      "metadata": {
        "id": "bpePewlgfxFa"
      },
      "execution_count": null,
      "outputs": []
    },
    {
      "cell_type": "markdown",
      "source": [
        " ## Questão 1.6.\n",
        "\n",
        " Utilize a fórmula dos trapézios composta, com $m \\in \\{1,2,4,8,16,32\\}$ para aproximar\n",
        "\n",
        "\\begin{equation}\n",
        "  \\int_0^{x_{max}} e^x dx\n",
        "\\end{equation}\n",
        "\n",
        "armazenando os erros de cada simulação em um vetor, bem como os respectivos valores de $h$. Utilize a função *ordem_convergencia_numerica* para imprimir a ordem de convergência estimada. Plote também o vetor de erros em função de $h$, em escala bilogarítmica, que provavelmente resultará em uma gráfico próximo a uma reta. Qual a inclinação aproximada dessa reta?\n",
        "\n",
        "**Resposta:**\n",
        "- O valor estimado de $p$ condiz com o valor teórico? :\n",
        "- Inclinação da reta obtida em escala bilogarítmica:"
      ],
      "metadata": {
        "id": "qKWIk7Tbe9Lk"
      }
    },
    {
      "cell_type": "code",
      "source": [
        "## Limites de integração\n",
        "a = 0\n",
        "b = xmax\n",
        "\n",
        "## Integral exata\n",
        "ex = np.exp(b) - np.exp(a)\n",
        "\n",
        "## Inicializar o vetor de erros\n",
        "erros = np.empty(0,dtype = float)\n",
        "\n",
        "## Inicializar o vetor de espaçamentos h\n",
        "hs = np.empty(0,dtype = float)\n",
        "\n",
        "## Uma aproximação para cada valor de m\n",
        "for m in [1,2,4,8,16,32]:\n",
        "\n",
        "  ## Pontos igualmente espaçados\n",
        "  h = (b-a) / m   ## tamanho do passo\n",
        "  x = np.array([a + i*h for i in range(m+1)])  ## vetor com os pontos\n",
        "\n",
        "  ## Vetor de ordenadas\n",
        "  y = np.exp(x)\n",
        "\n",
        "  ## Integral aproximada\n",
        "  T = formula_trapezios_composta(x,y)\n",
        "\n",
        "  ## Guardar os resultados\n",
        "  hs = np.append(hs,h)\n",
        "  erros = np.append(erros,np.abs(ex-T))\n",
        "\n",
        "## Estimar ordem de convergência\n",
        "ordem_convergencia_numerica(hs,erros)\n",
        "\n",
        "plt.plot(hs,erros)\n",
        "plt.xlabel(\"h\")\n",
        "plt.ylabel(\"Erro\")\n",
        "plt.xscale(\"log\")\n",
        "plt.yscale(\"log\")\n",
        "plt.show()"
      ],
      "metadata": {
        "id": "vpc8qO02KRz3",
        "colab": {
          "base_uri": "https://localhost:8080/",
          "height": 558
        },
        "outputId": "c667b0de-b20e-4e33-ac2d-8ab31a0d95a3"
      },
      "execution_count": null,
      "outputs": [
        {
          "output_type": "stream",
          "name": "stdout",
          "text": [
            "Ordem de convergência estimada numericamente:\n",
            "p = 1.9823084271893558\n",
            "p = 1.9955132750423934\n",
            "p = 1.998874255577535\n",
            "p = 1.9997183087703505\n",
            "p = 1.999929561230317\n"
          ]
        },
        {
          "output_type": "display_data",
          "data": {
            "text/plain": [
              "<Figure size 640x480 with 1 Axes>"
            ],
            "image/png": "[encoded data removed]"
          },
          "metadata": {}
        }
      ]
    },
    {
      "cell_type": "markdown",
      "source": [
        "# Parte 2 - Método de extrapolação de Romberg\n",
        "\n",
        "O método de extrapolação de Romberg é um método de integração numérica que, usando diferentes aproximações dadas fórmula dos trapézios, permite obter aproximação de ordem maior que $2$ de forma recursiva.\n",
        "\n",
        "Pode-se mostrar que o erro na fórmula dos $m$-trapézios satisfaz\n",
        "\n",
        "\\begin{equation}\n",
        "  \\int_a^b f(x)dx = T(m) + C_2h^2 + C_4h^4 + C_6h^6 + \\dots\n",
        "  \\tag{2}\n",
        "\\end{equation}\n",
        "\n",
        "onde $C_2,C_4,C_6,\\dots$ são constantes. Aproximando a integral com o dobro de subintervalos, obtemos, a partir da Eq. (2),\n",
        "\n",
        "\\begin{equation}\n",
        "  \\int_a^b f(x)dx = T(2m) + C_2\\left(\\frac{h}{2}\\right)^2 + C_4\\left(\\frac{h}{2}\\right)^4 + C_6\\left(\\frac{h}{2}\\right)^6 + \\dots\n",
        "  \\tag{3}\n",
        "\\end{equation}\n",
        "\n",
        "Multiplicando a Eq. (3) por $4$ e subtraindo a Eq. (2), obtemos\n",
        "\n",
        "\\begin{equation}\n",
        "  4\\int_a^b f(x)dx  - \\int_a^b f(x)dx = 4 \\left(T(2m) + C_2\\left(\\frac{h}{2}\\right)^2 + C_4\\left(\\frac{h}{2}\\right)^4 + C_6\\left(\\frac{h}{2}\\right)^6 + \\dots\\right) - \\left(T(m) + C_2h^2 + C_4h^4 + C_6h^6 + \\dots\\right)\n",
        "\\end{equation}\n",
        "\n",
        "de onde obtemos\n",
        "\n",
        "\\begin{equation}\n",
        "  \\begin{aligned}\n",
        "  \\int_a^b f(x)dx & = \\color{red}{\\frac{4T(2m) - T(m)}{3}} - \\frac{C_4}{4}h^4 - \\frac{5}{16}C_6 h^6 + \\dots \\\\\n",
        "  &= \\color{red}{T_1(m)} - \\frac{C_4}{4}h^4 - \\frac{5}{16}C_6 h^6 + \\dots\n",
        "  \\end{aligned}\n",
        "  \\tag{4}\n",
        "\\end{equation}\n",
        "\n",
        "onde\n",
        "\n",
        "\\begin{equation}\n",
        "  T_1(m) := \\frac{4T(2m) - T(m)}{3}\n",
        "\\end{equation}\n",
        "\n",
        "A Eq. (4) indica que a fórmula de integração $T_1$ é uma **aproximação de quarta ordem** para $\\int_a^bf(x)dx$. Podemos repetir essa construção. Usando $T_1$ com o dobro de intervalos, obtemos, a partir da Eq. (4),\n",
        "\n",
        "\\begin{equation}\n",
        "  \\begin{aligned}\n",
        "  \\int_a^b f(x)dx = T_1(2m) - \\frac{C_4}{4}\\left(\\frac{h}{2}\\right)^4 - \\frac{5}{16}C_6 \\left(\\frac{h}{2}\\right)^6 + \\dots\n",
        "  \\end{aligned}\n",
        "  \\tag{5}\n",
        "\\end{equation}\n",
        "\n",
        "Multiplicando (5) por 16 e subtraindo (4), obtemos uma **aproximação de sexta ordem** para $\\int_a^b f(x)dx$:\n",
        "\n",
        "\\begin{equation}\n",
        "  \\begin{aligned}\n",
        "  \\int_a^b f(x)dx & = \\color{blue}{\\frac{16T_1(2m) - T_1(m)}{15}} + Ch^6 \\\\\n",
        "  &= \\color{blue}{T_2(m)} + C_6 h^6 + \\dots\n",
        "  \\end{aligned}\n",
        "  \\tag{4}\n",
        "\\end{equation}\n",
        "\n",
        "onde\n",
        "\n",
        "\\begin{equation}\n",
        "  T_2(m) := \\frac{16T_1(2m) - T_1(m)}{15}\n",
        "\\end{equation}\n",
        "\n",
        "O procedimento descrito acima é conhecido como **método de extrapolação de Romberg**. Definindo $T_0(m) = T(m)$ (a fórmula dos $m$-trapézios usual), temos, de forma geral,\n",
        "\n",
        "\\begin{equation}\n",
        "  T_k(m) := \\frac{4^k T_{k-1}(2m) - T_{k-1}(m)}{4^k - 1}, \\qquad k = 1,2,3,\\dots\n",
        "  \\tag{6}\n",
        "\\end{equation}\n",
        "\n",
        "O método pode ser implementado na forma da seguinte tabela:\n",
        "\n",
        "\\begin{array}{|c|c|} \\hline\n",
        "  m & T_0 & T_1 & T_2  & T_3 & \\dots \\\\ \\hline\n",
        "  m_0 & T_0(m_0) & T_1(m_0) & T_2(m_0) & T_3(m_0) & \\dots  \\\\\n",
        "  2m_0 & T_0(2m_0) & T_1(2m_0) & T_2(2m_0) & T_3(2m_0) \\\\\n",
        "  4m_0 & T_0(4m_0) & T_1(4m_0) & T_2(4m_0) & \\vdots \\\\\n",
        "  8m_0 & T_0(8m_0) & T_1(8m_0) & \\vdots & T_3(2^{M-3}m_0) \\\\\n",
        "  16m_0 & T_0(16m_0) & \\vdots & T_2(2^{M-2}m_0) \\\\\n",
        "  \\vdots & \\vdots & T_1(2^{M-1}m_0) &  \\\\\n",
        "  2^Mm_0 & T_0(2^Mm_0) \\\\\\hline\n",
        "\\end{array}\n",
        "\n",
        "Primeiramente, calculam-se os valores da coluna $T_0$ usando a fórmula dos $m$-trapézios, com os respectivos valores de $m$. Podemos, por exemplo, começar com $m_0 = 1$, que corresponde ao método dos trapézios sem repetição, mas é possível começar com $m_0 > 1$. A seguir, calculam-se os valores da coluna $T_1$ usando (6), com $k=1$; a seguir, calculam-se os valores da coluna $T_2$ usando (6), com $k=2$, e assim por diante. **Os valores da coluna $T_k$ fornecem uma aproximação de ordem $2k+2$ para $\\int_a^bf(x)dx$**."
      ],
      "metadata": {
        "id": "cvdh-bKbRRCm"
      }
    },
    {
      "cell_type": "markdown",
      "source": [
        "## Questão 2.1.\n",
        "\n",
        "Escreva a função *extrapolacao_romberg*, que implementa o método de extrapolação de Romberg. A função recebe o valor de $m_0$ (inteiro maior ou igual a $1$), o valor máximo de $M$ (tal que $m=2^Mm_0$ seja o maior múltiplo inteiro de $m_0$), um inteiro $k_{max}$ (maior índice de $T_k$), um vetor com pelo menos $Mm_0+1$ pontos $x_i$ e um vetor com as respectivas ordenadas $y_i$. Os valores $T_k(m)$ são armazenados em uma matriz com $M+1$ linhas e $k_{max}+1$ colunas, seguindo a estrutura da tabela apresentada acima. No cálculo dos valores na colunas $T_0$, adotam-se $m+1$ pontos equidistantes entre os pontos dados."
      ],
      "metadata": {
        "id": "peOfUs25do0q"
      }
    },
    {
      "cell_type": "code",
      "source": [
        "def extrapolacao_romberg(m0,M,kmax,x,y):\n",
        "  \"\"\"\n",
        "  Calcula a aproximação de uma integral definida por meio do método de extrapolação de Romberg\n",
        "\n",
        "  Entradas:\n",
        "  - m0: valor inicial de m (inteiro maior ou igual a 1)\n",
        "  - M: inteiro tal que m = 2^M*m0 seja o maior múltiplo inteiro de m0\n",
        "  - kmax: maior índice de T_k (inteiro maior ou igual a 1)\n",
        "  - x: vetor com pelo menos M*m0+1 pontos\n",
        "  - y: vetor com as respectivas ordenadas\n",
        "\n",
        "  Saída:\n",
        "  - T: matriz com M+1 linhas e kmax+1, onde o elemento (i,k) é T_k(2^i * m0), i = 0,...,M, k = 0,...,kmax\n",
        "  \"\"\"\n",
        "\n",
        "  ## inicializa a matriz para armazenar as aproximações T_k(2^i * m0)\n",
        "  T = np.zeros((M+1,kmax+1))\n",
        "\n",
        "  ## Cálculo de T_0(m) para vários valores de m\n",
        "  ## usando a fórmula dos m-trapézios\n",
        "  ## Percorremos as potências de 2\n",
        "  for i in range(M+1):\n",
        "\n",
        "    ## Determinação do número de intervalos\n",
        "    m = m0 * (2**i)\n",
        "    m = int(m)  ## transformar em inteiro\n",
        "\n",
        "    ## Se quisermos um número de intervalos maior que o disponível -> Erro\n",
        "    if m > x.size - 1:\n",
        "      sys.exit(\"Erro: não é possível usar a fórmula dos {}-trapézios pois existem apenas {}pontos\".format(m,x.size))\n",
        "\n",
        "\n",
        "    ## Obter subvetores de x e y, com m+1 pontos igualmente espaçados, incluindo os extremos\n",
        "    ## Construimos um vetor contendo os índices que formarão o subvetor\n",
        "    ##      por exemplo, se temos o vetor x = [x_0, ..., x_16]\n",
        "    ##      o subvetor com $4$ intervalos será [x_0,x_4,x_8,x_12,x_16]\n",
        "    ##      de modo que indices = [0,4,8,12,16]\n",
        "    indices = np.linspace(0, x.size -1, m+1, dtype=int)\n",
        "    x_m = x[indices]   ## subvetor de x\n",
        "    y_m = y[indices]   ## subvetor de y\n",
        "\n",
        "    ## Cálculo de T_0(2^i*m0) (fórmula dos trapézios composta)\n",
        "    ## armazenando o valor na matriz T\n",
        "    T[i,0] = formula_trapezios_composta(x_m, y_m)\n",
        "\n",
        "  ## Interpolação de Romberg\n",
        "  ## Percorremos as colunas de T, a partir da coluna T_1\n",
        "  for k in range(1,kmax+1):\n",
        "    ## Percorremos as linhas (uma a menos em comparação à coluna anterior)\n",
        "    for i in range(0,M+1-k):\n",
        "      ## Cálculo de T_m(2^i*m0)\n",
        "      numerador = (4**k) * T[i+1, k-1] - T[i, k-1]\n",
        "      ## Cálculo de T_m(2^i*m0)\n",
        "      T[i, k] = (4**k * T[i + 1, k - 1] - T[i, k - 1]) / (4**k - 1)\n",
        "\n",
        "  return T"
      ],
      "metadata": {
        "id": "Bi3a0k5wBxDR"
      },
      "execution_count": null,
      "outputs": []
    },
    {
      "cell_type": "markdown",
      "source": [
        "## Questão 2.2.\n",
        "\n",
        "Utilize o método de Romberg para aproximar $\\int_0^{x_{max}} e^x dx$. Utilize o a fórmula dos trapézios composta para calcular $T_0(1), T_0(2), T_0(4), \\dots, T_0(64)$ e utilize a função *extrapolacao_romberg* para obter as aproximações $T_k$, com $1 \\leq k \\leq 4$."
      ],
      "metadata": {
        "id": "76fvX5vvJblc"
      }
    },
    {
      "cell_type": "code",
      "source": [
        "## função\n",
        "def f(x):\n",
        "  return np.exp(x)\n",
        "\n",
        "## vetor com 65 pontos de interpolação equidistantes\n",
        "x = np.array(np.linspace(0,xmax,65))\n",
        "## vetor de ordenadas\n",
        "y = f(x)\n",
        "\n",
        "## dados para a extrapolaçãp de Romberg\n",
        "m0 = 1\n",
        "M = 6\n",
        "kmax = 4\n",
        "\n",
        "## Extrapolação de Romberg\n",
        "T =extrapolacao_romberg(m0, M, kmax, x, y)\n",
        "print(\"Matriz T:\")\n",
        "print(T)\n",
        "\n",
        "## Integral exata\n",
        "ex = np.exp(xmax) - np.exp(0)\n",
        "print(\"\\nIntegral exata: {}\".format(ex))\n"
      ],
      "metadata": {
        "id": "XipF44niEWt2",
        "colab": {
          "base_uri": "https://localhost:8080/"
        },
        "outputId": "c5f14628-6a56-4b2c-c02a-087b7d9a011f"
      },
      "execution_count": null,
      "outputs": [
        {
          "output_type": "stream",
          "name": "stdout",
          "text": [
            "Matriz T:\n",
            "[[1.85914091 1.71886115 1.71828269 1.71828183 1.71828183]\n",
            " [1.75393109 1.71831884 1.71828184 1.71828183 1.71828183]\n",
            " [1.7272219  1.71828415 1.71828183 1.71828183 1.71828183]\n",
            " [1.72051859 1.71828197 1.71828183 1.71828183 0.        ]\n",
            " [1.71884113 1.71828184 1.71828183 0.         0.        ]\n",
            " [1.71842166 1.71828183 0.         0.         0.        ]\n",
            " [1.71831679 0.         0.         0.         0.        ]]\n",
            "\n",
            "Integral exata: 1.718281828459045\n"
          ]
        }
      ]
    },
    {
      "cell_type": "markdown",
      "source": [
        " ## Questão 2.3.\n",
        "\n",
        " Utilizando cada coluna da matriz $T$ retornada obtida na questão anterior, chame a função *ordem_convergencia_numerica* para estimar a ordem de convergência de cada aproximação $T_k$. Plote, no mesmo gráfico, o erro absoluto de $T_k$ em função de $h$, para cada $k$. Os resultados são condizentes com a teoria?\n",
        "\n",
        " **Resposta:** Sim, os resultados são condizentes com a teoria. A teoria do método de Romberg afirma que a aproximação T_k tem uma ordem de convergência de 2k+2.  O gráfico log-log mostra claramente que as retas para k maiores são mais inclinadas, indicando uma convergência mais rápida. O método converge tão rápido que, para $T_3$ e $T_4$, a aproximação da integral fica tão incrivelmente próxima do valor exato que o erro se torna minúsculo (na ordem da precisão do computador, ou até zero em termos de ponto flutuante)."
      ],
      "metadata": {
        "id": "cC_5OCNjF1EF"
      }
    },
    {
      "cell_type": "code",
      "source": [
        "## Vetor com os valores de h\n",
        "hs = np.empty(0, dtype = float)\n",
        "## Percorrer os valores de m\n",
        "for m in range(M+1):\n",
        "  ## Calcular o h correspondente\n",
        "  h = (x[-1] - x[0]) / (2**m)\n",
        "  ## Adicionar h ao vetor\n",
        "  hs = np.append(hs,h)\n",
        "\n",
        "## Integral exata\n",
        "ex = np.exp(xmax) - np.exp(0)\n",
        "\n",
        "## Percorrer os valores de k para estimar a ordem de convergência de T_k e plotar o erro de T_k em função de h\n",
        "for k in range(0,kmax+1):\n",
        "\n",
        "  ## a partir de T, obter o vetor contendo os valores T_k, para um $k$ fixo\n",
        "  ## Note que T não tem valores calculados abaixo da diagonal secundária\n",
        "  Tk = T[0: M + 1 - k, k]\n",
        "\n",
        "  ## Vetor contendo os respectivos valores de h\n",
        "  hs_k = hs[0: M + 1 - k]\n",
        "\n",
        "  ## Vetor contendo o erro em cada aproximação T_k(m), para um k fixo\n",
        "  vetor_erro_k = np.abs(ex - Tk)\n",
        "\n",
        "  ## Calcular e imprimir a ordem de convergência de T_k estimada numericamente\n",
        "  print(\"\\nT_{}:\".format(k))\n",
        "  ordem_convergencia_numerica(hs_k,vetor_erro_k)\n",
        "\n",
        "  ## Plotar erros de Tk em função de h\n",
        "  plt.plot(hs_k,vetor_erro_k,label = r\"$T_{}$\".format(k))\n",
        "  plt.xscale('log')\n",
        "  plt.yscale('log')\n",
        "  plt.xlabel(r\"$h$\")\n",
        "  plt.ylabel(\"Erro\")\n",
        "  plt.legend()"
      ],
      "metadata": {
        "id": "HpScVJ9YGBdc",
        "colab": {
          "base_uri": "https://localhost:8080/",
          "height": 1000
        },
        "outputId": "ac46acb0-1094-4261-bf68-3e73ebe575c8"
      },
      "execution_count": null,
      "outputs": [
        {
          "output_type": "stream",
          "name": "stdout",
          "text": [
            "\n",
            "T_0:\n",
            "Ordem de convergência estimada numericamente:\n",
            "p = 1.9823084271893558\n",
            "p = 1.9955132750423934\n",
            "p = 1.998874255577535\n",
            "p = 1.9997183087703505\n",
            "p = 1.999929561230317\n",
            "p = 1.9999823892940012\n",
            "\n",
            "T_1:\n",
            "Ordem de convergência estimada numericamente:\n",
            "p = 3.9682469683673425\n",
            "p = 3.9919777278653683\n",
            "p = 3.9979890952332218\n",
            "p = 3.9994969556207005\n",
            "p = 3.9998731386140274\n",
            "\n",
            "T_2:\n",
            "Ordem de convergência estimada numericamente:\n",
            "p = 5.964951125011681\n",
            "p = 5.991151609165034\n",
            "p = 5.997792156780764\n",
            "p = 5.989157934288593\n",
            "\n",
            "T_3:\n",
            "Ordem de convergência estimada numericamente:\n",
            "p = 7.964011238961994\n",
            "p = 7.977995368612962\n",
            "p = 3.5849625007211565\n",
            "\n",
            "T_4:\n",
            "Ordem de convergência estimada numericamente:\n",
            "p = 7.219168520462162\n",
            "p = -1.0\n"
          ]
        },
        {
          "output_type": "display_data",
          "data": {
            "text/plain": [
              "<Figure size 640x480 with 1 Axes>"
            ],
            "image/png": "[encoded data removed]"
          },
          "metadata": {}
        }
      ]
    },
    {
      "cell_type": "markdown",
      "source": [
        "# Parte 3 - Aplicação: cálculo de volume de água em uma represa.\n",
        "\n",
        "Considere uma represa com perfil batimétrico indicado na figura abaixo, no plano $x-z$, onde $x$ é uma das direções horizontais e $z$ é a direção vertical. O perfil tem largura de $10$km, e a cota de fundo (altitude em relação ao nível do mar) é conhecida em 513 pontos equidistantes, incluindo os extremos do perfil. Com esses dados, é possível estimar o volume de água ocupado em função do nível da superfície. Por simplificação, considere que o perfil da represa seja constante ao longo da direção transversal $y$ e de comprimento $100\\text{m}$ nessa direção.\n",
        "\n",
        "Rode o código abaixo para ler o arquivo com o perfil topográfico da represa. Serão obtidos dois vetores, um com as coordenadas $x_i$ dos pontos de medição, e outro com as respectivas cotas $z_i$.\n",
        "\n"
      ],
      "metadata": {
        "id": "Hrw3GQYGtR7M"
      }
    },
    {
      "cell_type": "code",
      "source": [
        "# Leitura do arquivo, salvando o conteúdo em perfil.txt\n",
        "import gdown\n",
        "import pandas as pd\n",
        "\n",
        "# Baixar arquivo\n",
        "file_id = '1JSyMSGqVoh-5LTQsSwQmFp_BuEoXCsgV'\n",
        "url = f'https://drive.google.com/uc?id={file_id}&confirm=t'\n",
        "gdown.download(url, 'perfil.txt', quiet=False)\n",
        "\n",
        "## Ler arquivo\n",
        "df = pd.read_csv('perfil.txt')\n",
        "\n",
        "df = pd.read_csv('perfil.txt', delimiter='\\t')\n",
        "x_input = df['x'].values\n",
        "z_input = df['y'].values\n",
        "\n",
        "# Impressão\n",
        "# for i in range(x_input.size):\n",
        "#   print(f\"{x_input[i]:.6f} {z_input[i]:.6f}\")"
      ],
      "metadata": {
        "id": "DGRmfWWMtRRt",
        "colab": {
          "base_uri": "https://localhost:8080/"
        },
        "outputId": "1990d530-8df8-4a02-91a6-9bcbf422cab3"
      },
      "execution_count": null,
      "outputs": [
        {
          "output_type": "stream",
          "name": "stderr",
          "text": [
            "Downloading...\n",
            "From: https://drive.google.com/uc?id=1JSyMSGqVoh-5LTQsSwQmFp_BuEoXCsgV&confirm=t\n",
            "To: /content/perfil.txt\n",
            "100%|██████████| 7.64k/7.64k [00:00<00:00, 4.12MB/s]\n"
          ]
        }
      ]
    },
    {
      "cell_type": "code",
      "source": [
        "## Plotar perfil\n",
        "plt.figure(figsize = (12,4))\n",
        "plt.plot(x_input,z_input)\n",
        "plt.xlabel(r'$x$ (m)')\n",
        "plt.ylabel(r'$z$ (m)')"
      ],
      "metadata": {
        "id": "9AsHiOH982L3",
        "colab": {
          "base_uri": "https://localhost:8080/",
          "height": 407
        },
        "outputId": "67ccbd7a-1747-4a15-b7b0-09820abf7861"
      },
      "execution_count": null,
      "outputs": [
        {
          "output_type": "execute_result",
          "data": {
            "text/plain": [
              "Text(0, 0.5, '$z$ (m)')"
            ]
          },
          "metadata": {},
          "execution_count": 13
        },
        {
          "output_type": "display_data",
          "data": {
            "text/plain": [
              "<Figure size 1200x400 with 1 Axes>"
            ],
            "image/png": "[encoded data removed]"
          },
          "metadata": {}
        }
      ]
    },
    {
      "cell_type": "markdown",
      "source": [
        "## Questão 3.1.\n",
        "\n",
        "Utilizando o método de Romberg e sabendo que a maior cota da superfície da água é de $736$m, estime o volume da represa quando ela está em sua capacidade máxima. Comece com $m_0 = 2$. O valor obtido será dado por $T_3(64)$."
      ],
      "metadata": {
        "id": "hVJCD8fPkQsC"
      }
    },
    {
      "cell_type": "code",
      "source": [
        "## dados para a extrapolaçãp de Romberg\n",
        "m0 = 2\n",
        "M = 8 # 512 = 2 * 2^8\n",
        "kmax = 3\n",
        "\n",
        "## Maior cota\n",
        "ymax = 736.0\n",
        "\n",
        "## Extrapolação de Romberg\n",
        "T = extrapolacao_romberg(m0, M, kmax, x_input, np.maximum(0, ymax - z_input))\n",
        "\n",
        "## Imprimir a matriz T com arredondamento para duas casas decimais\n",
        "print(\"Matriz T:\")\n",
        "np.set_printoptions(precision=2, suppress=True)\n",
        "print(T)\n",
        "np.set_printoptions()\n",
        "\n",
        "## Cálculo do volume total\n",
        "V_total = 100* T[5,3]\n",
        "print(\"\\nVolume total: \", V_total)"
      ],
      "metadata": {
        "id": "Bc1BZ3XwqNHM",
        "colab": {
          "base_uri": "https://localhost:8080/"
        },
        "outputId": "f67e0bc5-cc7f-4e16-e63e-d43296a85d5f"
      },
      "execution_count": null,
      "outputs": [
        {
          "output_type": "stream",
          "name": "stdout",
          "text": [
            "Matriz T:\n",
            "[[67750.   86583.33 87463.33 88165.98]\n",
            " [81875.   87408.33 88155.   88112.11]\n",
            " [86025.   88108.33 88112.78 88121.53]\n",
            " [87587.5  88112.5  88121.39 88120.26]\n",
            " [87981.25 88120.83 88120.28 88121.16]\n",
            " [88085.94 88120.32 88121.15 88121.38]\n",
            " [88111.72 88121.1  88121.37     0.  ]\n",
            " [88118.75 88121.36     0.       0.  ]\n",
            " [88120.7      0.       0.       0.  ]]\n",
            "\n",
            "Volume total:  8812137.670846561\n"
          ]
        }
      ]
    },
    {
      "cell_type": "markdown",
      "source": [
        "## Questão 3.2.\n",
        "\n",
        "Suponha que a cota da superfície da represa seja dada pela variável *altura*, definida no começo deste EP em função de seu número USP. Utilizando o método de Romberg, começando com $m_0 = 2$ e obtendo a aproximação $T_3(64)$, estime a porcentagem de água em relação à capacidade total da represa."
      ],
      "metadata": {
        "id": "QoY0Fo9EyLDP"
      }
    },
    {
      "cell_type": "code",
      "source": [
        "## dados para a extrapolaçãp de Romberg\n",
        "m0 = 2\n",
        "M = 8\n",
        "kmax = 3\n",
        "\n",
        "## Maior cota\n",
        "ymax = altura\n",
        "\n",
        "## Extrapolação de Romberg\n",
        "T = extrapolacao_romberg(m0, M, kmax, x_input, np.maximum(0, ymax - z_input))\n",
        "\n",
        "## Imprimir a matriz T com arredondamento para duas casas decimais\n",
        "print(\"Matriz T:\")\n",
        "np.set_printoptions(precision=2, suppress=True)\n",
        "print(T)\n",
        "np.set_printoptions()\n",
        "\n",
        "V = 100 * T[5,3]\n",
        "print(\"\\nVolume ocupado:\", V)\n",
        "print(\"Porcentagem do volume ocupado: {}%\".format(V/V_total*100))"
      ],
      "metadata": {
        "id": "Q8aFGm4xyxDd",
        "colab": {
          "base_uri": "https://localhost:8080/"
        },
        "outputId": "0519382e-250d-4830-ef0b-7ead0010d803"
      },
      "execution_count": null,
      "outputs": [
        {
          "output_type": "stream",
          "name": "stdout",
          "text": [
            "Matriz T:\n",
            "[[27350.   19250.   23934.44 23501.57]\n",
            " [21275.   23641.67 23508.33 23394.89]\n",
            " [23050.   23516.67 23396.67 23324.14]\n",
            " [23400.   23404.17 23325.28 23366.97]\n",
            " [23403.12 23330.21 23366.32 23364.87]\n",
            " [23348.44 23364.06 23364.9  23363.86]\n",
            " [23360.15 23364.84 23363.87     0.  ]\n",
            " [23363.67 23363.93     0.       0.  ]\n",
            " [23363.87     0.       0.       0.  ]]\n",
            "\n",
            "Volume ocupado: 2336385.5675943317\n",
            "Porcentagem do volume ocupado: 26.513266756190845%\n"
          ]
        }
      ]
    },
    {
      "cell_type": "code",
      "source": [],
      "metadata": {
        "id": "P-h168Op-47M"
      },
      "execution_count": null,
      "outputs": []
    }
  ]
}