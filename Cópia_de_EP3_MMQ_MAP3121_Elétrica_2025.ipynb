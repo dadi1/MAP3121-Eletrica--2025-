{
  "nbformat": 4,
  "nbformat_minor": 0,
  "metadata": {
    "colab": {
      "provenance": []
    },
    "kernelspec": {
      "name": "python3",
      "display_name": "Python 3"
    },
    "language_info": {
      "name": "python"
    }
  },
  "cells": [
    {
      "cell_type": "code",
      "source": [
        "## importamos algumas bibliotecas que serão usadas\n",
        "import numpy as np  # Para um mínimo de matemática"
      ],
      "metadata": {
        "id": "G7dwA_z_EYex"
      },
      "execution_count": null,
      "outputs": []
    },
    {
      "cell_type": "markdown",
      "source": [
        "# MAP5729 - EP3: MMQ\n"
      ],
      "metadata": {
        "id": "WDIqGicPYNJ3"
      }
    },
    {
      "cell_type": "markdown",
      "source": [
        "**Nome:** Narayan Shimanoe Lisboa\n",
        "\n",
        "**Número USP:** 14600141\n",
        "\n",
        "**Turma:** 02"
      ],
      "metadata": {
        "id": "DbRiXO7aiX9b"
      }
    },
    {
      "cell_type": "markdown",
      "source": [
        "<p align = \"justify\">O objetivo deste EP é implementar o método dos mínimos quadrados. Focaremos na resolução de um sistema sobredeterminado, resolvendo um problema relacionado ao sistema de GPS. Esse problema, na realidade, é descrito por um sistema não-linear, mas consideraremos uma forma linearizada, permitindo a aplicação do MMQ. Aproveitaremos para introduzir e implementar a fatoração QR, que permite resolver o sistema normal de forma mais estável comparado à eliminação de Gauss ou fatoração LU.</p>\n",
        "\n",
        "**Orientações:**\n",
        "- Salve uma cópia deste notebook para editá-lo.\n",
        "- Utilize o índice à esquerda para identificar as questões que precisam ser respondidas.\n",
        "- As respostas das questões deverão ser respondidas nos espaços indicados abaixo.\n",
        "- Envie o link do seu notebook na página de entrega da atividade no Moodle da disciplina.\n",
        "- Data limite de entrega: 05/05"
      ],
      "metadata": {
        "id": "G8Qd2l61Yo_O"
      }
    },
    {
      "cell_type": "markdown",
      "source": [
        "<font color='red'>\n",
        "IMPORTANTE: o problema descrito neste EP depende de dados dependentes de um parâmetro $i_{rec}$, escolhido em função de seu número USP. $i_{rec}$ é calculado como o resto da divisão do seu número USP por $4$.\n",
        "\n",
        "Complete e rode a célula abaixo indicando seu valor de $i_{rec}$.\n",
        "</font>\n",
        "\n"
      ],
      "metadata": {
        "id": "YB2z3hUXiF5B"
      }
    },
    {
      "cell_type": "code",
      "source": [
        "nusp = 14600141\n",
        "irec = nusp%4\n",
        "print(irec)"
      ],
      "metadata": {
        "id": "XPz0WSaIjkL0",
        "colab": {
          "base_uri": "https://localhost:8080/"
        },
        "outputId": "116487cf-9e24-41f7-cc4f-65b1c78ab117"
      },
      "execution_count": null,
      "outputs": [
        {
          "output_type": "stream",
          "name": "stdout",
          "text": [
            "1\n"
          ]
        }
      ]
    },
    {
      "cell_type": "markdown",
      "source": [
        "#Parte 1 - Formulação do problema\n"
      ],
      "metadata": {
        "id": "VRR6y81zxEud"
      }
    },
    {
      "cell_type": "markdown",
      "source": [
        "## O sistema de posicionamento global\n",
        "\n",
        "<p align = \"justify\">O Sistema de Posicionamento Global (GPS, sigla do nome em inglês) é um\n",
        "sistema de navegação formado por uma rede de pelo menos 24 satélites orbitando a Terra e\n",
        "transmitindo sinais para os receptores GPS, que usam triangulação para calcular\n",
        "a localização do usuário. Na descrição a seguir, o sistema de coordenadas tem\n",
        "sua origem $O$ no centro da Terra, o eixo $Oz$ positivo aponta na direção do Polo\n",
        "Norte, o plano $Oxy$ é o plano do equador com o eixo $Ox$ positivo cortando o\n",
        "meridiano de Greenwich e o eixo $Oy$ positivo corta o meridiano de longitude\n",
        "$90^{\\circ}$E.</p>\n",
        "\n",
        "<p align = \"justify\">Um dado satélite $i$ transmite a sua posição atual $(x_i , y_i , z_i)$ e o instante $te_i$\n",
        "de emissão do sinal. O receptor GPS grava esta informação juntamente com\n",
        "o instante $tr_i$ da recepção do sinal. Entretanto, o relógio do receptor é menos\n",
        "preciso do que o relógio do satélite, havendo um erro de sincronia $T$ . O instante\n",
        "correto da recepção é $tr_i - T$ . Se $T > 0$ o relógio do receptor está adiantado e\n",
        "se $T < 0$ ele está atrasado.</p>\n",
        "\n",
        "<p align = \"justify\">Portanto, o tempo que o sinal leva do satélite ao receptor é $t_i - T$ , onde\n",
        "$t_i = tr_i - te_i$ é o lapso de tempo aparente, e o receptor deve estar na superfı́cie\n",
        "da esfera de raio $c(t_i - T)$ e centro $(x_i , y_i , z_i)$, onde $c = 299792458$ m/s é a\n",
        "velocidade da luz no vácuo. As coordenadas $(x, y, z)$ do receptor devem então\n",
        "satisfazer a relação</p>\n",
        "\n",
        "\\begin{equation*}\n",
        "  (x - x_i)^2 + (y - y_i)^2 + (z - z_i)^2 = (w_i - w)^2\n",
        "\\end{equation*}\n",
        "\n",
        "<p align = \"justify\">em que $w_i = ct_i$ e $w = cT$ (ao multiplicarmos por c, ficamos apenas com dimensões\n",
        "espaciais).</p>\n",
        "\n",
        "<p align = \"justify\">Em qualquer instante, dados de 5 a 8 satélites são obtidos pelo receptor em\n",
        "qualquer ponto da terra. Então, assumindo que temos dados de $n > 4$ satélites,\n",
        "as 4 incógnitas $(x, y, z, w)$ devem satisfazer as equações</p>\n",
        "\n",
        "\\begin{equation}\n",
        "  r_i(x,y,z,w) = (x - x_i)^2 + (y - y_i)^2 + (z - z_i)^2 - (w_i - w)^2 = 0, \\tag{1}\n",
        "\\end{equation}\n",
        "\n",
        "<p align = \"justify\">$1 \\le i \\le n$, que formam um sistema não-linear sobredeterminado. Como as\n",
        "medidas estão sujeitas a erros, este sistema em geral não tem solução (se não\n",
        "houvesse erros, bastaria resolver 4 das n equações).</p>\n"
      ],
      "metadata": {
        "id": "f8ZwmEX7xK3j"
      }
    },
    {
      "cell_type": "markdown",
      "source": [
        "<p align = \"justify\">Observe que (1) é um sistema de equações não-lineares, já que ele possui termos quadráticos nas incógnitas $x$, $y$, $z$ e $w$. Sua resolução exigiria a utilização de métodos iterativos, como o método de Newton. No entanto, se subtrairmos a equação $n$ de cada uma das outras equações,</p>\n",
        "\n",
        "\\begin{equation}\n",
        "  r_i(x,y,z,w) - r_n(x,y,z,w) = 0,\\quad 1 \\le i \\le n-1 \\tag{2}\n",
        "\\end{equation}\n",
        "\n",
        "<p align = \"justify\">os termos quadráticos cancelam e obtemos um sistema linear sobredeterminado $A \\mathbf{x} = \\mathbf{b}$, com $A \\in \\mathbb{R}^{(n-1)\\times4}$. A solução desse sistema linear poderia ser usada como chute inicial para a resolução iterativa do sistema não-linear (1). No entanto, vamos resolver neste EP apenas o problema linear.</p>"
      ],
      "metadata": {
        "id": "yY9ZlwjtYUFp"
      }
    },
    {
      "cell_type": "markdown",
      "source": [
        "## Questão 1.1.\n",
        "\n",
        "Escreva, para a linha $i$ do sistema linear sobredeterminado (2), os quatro elementos $a_{ij}$ de $A$ e o elemento $b_i$ de $\\mathbf{b}$:\n",
        "\n",
        "**Resposta**:\n",
        "- $a_{i1} = 2(x_n-x_i)$\n",
        "- $a_{i2} = 2(y_n-y_i)$\n",
        "- $a_{i3} = 2(z_n-z_i)$\n",
        "- $a_{i4} = -2(w_n-w_i)$\n",
        "- $b_i = x_n^2- x_i^2  + y_n^2 - y_i^2 + z_n^2- z_i^2  + w_i^2 - w_n^2$"
      ],
      "metadata": {
        "id": "DN6jN6TJclwF"
      }
    },
    {
      "cell_type": "markdown",
      "source": [
        "# Parte 2 - Fatoração QR"
      ],
      "metadata": {
        "id": "i9OieReOdWe7"
      }
    },
    {
      "cell_type": "markdown",
      "source": [
        "**Motivação**\n",
        "\n",
        "Aplicando o método dos mínimos quadrados ao sistema linear sobredeterminado (2), obtemos o sistema linear normal $A^T A \\mathbf{x} = A^T \\mathbf{b}$, de tamanho igual ao número de incógnitas (neste caso, 4). No entanto, geralmente não é recomendado resolver esse sistema diretamente (usando, por exemplo, Eliminação de Gauss), pois a matriz $A^TA$ pode ser muito **mal condicionada**. Isso significa que o sistema normal pode ser sensível a erros de arredondamento, conduzindo a soluções numéricas pouco precisas. Mesmo que isso talvez não se verifique no exemplo que estamos resolvendo, vamos apresentar e implementar uma outra técnica menos suscetível a erros de arredondamento.\n",
        "\n",
        "**A fatoração QR**\n",
        "\n",
        "Seja $A \\in \\mathbb{R}^{N \\times M}$. Se $N \\geq M$, a matriz $A$ pode ser escrita na forma $A = QR$, onde $Q \\in \\mathbb{R}^{N \\times M}$ satisfaz $Q^T Q = I$ (ou seja, as colunas de $Q$ são ortonormais) e $R \\in \\mathbb{R}^{M \\times M}$ é uma matriz triangular superior. Essa é a chamada **fatoração QR** de $A$.\n",
        "\n",
        "Substituindo $A = QR$ em $A^T A \\mathbf{x} = A^T \\mathbf{b}$, temos\n",
        "\n",
        "\\begin{equation}\n",
        "  \\tag{3}\n",
        "  R^T Q^T Q R \\mathbf{x} = R^T Q^T \\mathbf{b} \\iff R^T R \\mathbf{x} = R^T Q^T \\mathbf{b} \\iff (R^T)^{-1}R^T R \\mathbf{x} = (R^T)^{-1}R^T Q^T \\mathbf{b} \\iff R \\mathbf{x} = Q^T \\mathbf{b}\n",
        "\\end{equation}\n",
        "\n",
        "A matriz $R$ possui inversa se as colunas de $A$ são linearmente independentes.\n",
        "\n",
        "A equação (3) mostra que, usando a fatoração $QR$, a solução do sistema normal é dada pela solução de um **sistema triangular superior** (3), que pode ser facilmente resolvido por subsituição.\n",
        "\n",
        "\n",
        "**Cálculo da fatoração QR**\n",
        "\n",
        "As matrizes $Q$ e $R$ podem ser determinadas aplicando o processo de **ortonormalização de Gram-Schmidt** às colunas $\\mathbf{a}_j$, $j = 1, \\dots, M$, de $A$. Esse método consiste em construir sucessivamente vetores $\\mathbf{q}_j$, $j = 1, \\dots, M$ (as colunas de $Q$), de modo que cada um desses vetores seja ortogonal aos vetores previamente construídos. Além disso, os vetores são normalizados, de forma que $||\\mathbf{q}_j||_2 = \\sqrt{\\langle \\mathbf{q}_j, \\mathbf{q}_j \\rangle} = 1$, $j = 1, \\dots, M$.\n",
        "\n",
        "\n",
        "O algoritmo é descrito da seguinte forma: começamos determinando a primeira coluna de $Q$, $\\mathbf{q}_1 = \\frac{1}{||\\mathbf{a}_1||_2} \\mathbf{a}_1$, e em seguida, determinamos cada coluna $j = 2, \\dots, M$, de $Q$, dada pela diferença entre $\\mathbf{a}_j$ e a projeção de $\\mathbf{a}_j$ no espaço gerado pelos vetores $\\mathbf{q}_1, \\dots, \\mathbf{q}_j$ já construídos. Pode-se mostrar que os coeficientes dessa projeção são os elementos de $R$. Assim, temos o algoritmo:\n",
        "\n",
        "**para** $j = 1, \\dots, M$, **faça**:\n",
        "    \n",
        "  * $\\mathbf{q}_j = \\mathbf{a}_j$\n",
        "  * **para** $ i =1, \\dots, j-1$:\n",
        "\n",
        "   -   $r_{ij} = \\langle \\mathbf{q}_i, \\mathbf{a}_j \\rangle$        \n",
        "   -   $\\mathbf{q}_j \\leftarrow \\mathbf{q}_j - r_{ij} \\mathbf{q}_i$\n",
        "  \n",
        "  * $r_{jj} = ||\\mathbf{q}_j||_2$\n",
        "  * se $r_{jj} = 0$: PARE (as colunas de $A$ são linearmente dependentes)\n",
        "  * $\\mathbf{q}_j \\leftarrow \\mathbf{q}_j / r_{jj}$\n",
        "\n",
        "**fim**\n",
        "    \n",
        "\n",
        "**Observação:** o próprio algoritmo de Gram-Schmidt também pode estar sujeito a instabilidades numéricas devido a erros de arredondamento, caso as colunas de $A$ sejam quase linearmente dependentes, em especial para matrizes de grande dimensão. Existem outros métodos para calcular a fatoração QR (por exemplo, usando matrizes de Houselhoder e rotações de Givens), mas eles não serão vistos aqui."
      ],
      "metadata": {
        "id": "p6bDXCr1ddU7"
      }
    },
    {
      "cell_type": "markdown",
      "source": [
        "## Questão 2.1.\n",
        "\n",
        "Vamos começar escrevendo algumas funções necessárias para calcular a fatoração QR de $A$ e para a resolução do sistema normal usando a fatoração QR. Complete as funções abaixo:\n",
        "\n",
        "<!-- - Função *produto_interno*: calcula o produto interno usual em $\\mathbb{R}^M$: $\\langle u,v \\rangle = \\sum_{i=1}^M u_iv_i$\n",
        "- Função *produto_matriz_vetor*: calcula o produto entre $A \\in \\mathbb{R}^{N \\times M}$ e $\\mathbf{x} \\in \\mathbb{R}^M$. Lembrando que, em Python, $A[i,:]$ extrai a linha $i$ de $A$, você pode usar chamar a função *produto_interno* dentro desta função.\n",
        "- Função *produto_matriz_matriz*: calcula o produto entre $A \\in \\mathbb{R}^{N \\times M}$ e $\\mathbf{x} \\in \\mathbb{R}^M$. Lembrando que, em Python, $A[i,:]$ extrai a linha $i$ de $A$, você pode usar chamar a função *produto_interno* dentro desta função. -->\n",
        "- Função *norma*: calcula a norma Euclidiana (norma 2) de um vetor.\n",
        "- Função *gram_schmidt*: implementa o algoritmo de Gram-Schmidt descrito acima.\n",
        "- Função *resolver_sistema_triangular_superior*: resolve um sistema linear triangular superior.\n",
        "\n",
        "Para implementar o produto interno entre vetores e a multiplicação entre vetores, você pode usar a função *np.dot* da biblioteca *numpy*:\n",
        "\n",
        "- np.dot(u,v): produto interno entre os vetores $u, v \\in \\mathbb{R}^{n}$\n",
        "- np.dot(A,u): produto entre a matriz $A \\in \\mathbb{R}^{n \\times m}$ e o vetor $u \\in \\mathbb{R}^m$\n",
        "\n",
        "**Atenção:** u*v calcula o produto componente a componente (não é o produto interno!)\n",
        "\n",
        "Além disso, a transposta de uma matriz $A$ á dada por:\n",
        "- A.T, ou np.transpose(A)\n"
      ],
      "metadata": {
        "id": "ZSjlAypSh-AH"
      }
    },
    {
      "cell_type": "code",
      "source": [
        "def norma(v):\n",
        "  \"\"\"\n",
        "  Calcula a norma Euclidiana (norma 2) de um vetor\n",
        "\n",
        "  Entradas:\n",
        "  - v: vetor de tamanho M\n",
        "\n",
        "  Saídas:\n",
        "  - norma: norma de v\n",
        "  \"\"\"\n",
        "\n",
        "  norma = np.sqrt(np.dot(v,v))\n",
        "\n",
        "  return norma\n",
        "\n",
        "def gram_schmidt(A):\n",
        "  \"\"\"\n",
        "  Aplica o processo de ortonormalização de Gram-Schmidt às colunas de A\n",
        "\n",
        "  Entradas:\n",
        "  - A: matriz de tamanho N x M\n",
        "\n",
        "  Saídas:\n",
        "  - Q: matriz de tamanho N x M, satisfazendo Q^T Q = I\n",
        "  - R: matriz triangular de tamanho M x M\n",
        "  \"\"\"\n",
        "\n",
        "  N,M = A.shape             ## número de linhas e de colunas de A\n",
        "  Q = np.zeros((N,M))       ## inicializa a matriz Q com zeros\n",
        "  R = np.zeros((M,M))       ## inicializa a matriz R com zeros\n",
        "\n",
        "  ## Coluna j de Q\n",
        "  for j in range(0,M):\n",
        "    q = A[:,j]\n",
        "    ## COMPLETAR\n",
        "    for i in range(0,j):\n",
        "      R[i,j] = np.dot(Q[:,i],A[:,j])\n",
        "      q = q - R[i,j]*Q[:,i]\n",
        "    R[j,j] = norma(q)\n",
        "    if R[j,j] == 0:\n",
        "      print(\"As colunas de A são linearmente dependentes\")\n",
        "      return\n",
        "    Q[:,j] = q/R[j,j]\n",
        "\n",
        "  return Q,R\n",
        "\n",
        "def resolver_sistema_triangular_superior(R,z):\n",
        "  \"\"\"\n",
        "  Resolve o sistema triangular superior Rx = z\n",
        "\n",
        "  Entradas:\n",
        "  - R: matriz triangular de tamanho M x M\n",
        "  - z: vetor de tamanho M\n",
        "\n",
        "  Saídas:\n",
        "  - x: vetor de tamanho M\n",
        "  \"\"\"\n",
        "\n",
        "  M = R.shape[0]        ## número de linhas (e de colunas) de R\n",
        "  x = np.zeros(M)       ## inicializa a solução com zeros\n",
        "  (n, k) = R.shape\n",
        "\n",
        "\n",
        "  z_copy = z.copy()\n",
        "\n",
        "  for i in range(n - 1, -1, -1):\n",
        "    for j in range(k - 1, i, -1):\n",
        "      z_copy[i] = z_copy[i] - x[j] * R[i, j]  # Use the copy\n",
        "    x[i] = z_copy[i] / R[i, i]  # Use the copy\n",
        "\n",
        "  return x"
      ],
      "metadata": {
        "id": "1SxWObcjdZKU"
      },
      "execution_count": null,
      "outputs": []
    },
    {
      "cell_type": "markdown",
      "source": [
        "## Questão 2.2\n",
        "\n",
        "Vamos inicialmente validar a função implementando o algoritmo de Gram-Schmidt. Considere\n",
        "\n",
        "\\begin{equation}\n",
        "  A = \\left(\\begin{array}{c c c}\n",
        "  1 & 0\\\\\n",
        "  1 & 1 \\\\\n",
        "  0 & -1\n",
        "  \\end{array}\\right)\n",
        "\\end{equation}\n",
        "\n",
        "Verifique que sua função fornece\n",
        "\n",
        "\\begin{equation}\n",
        "  Q = \\left(\\begin{array}{c c c}\n",
        "  \\frac{1}{\\sqrt{2}} & -\\frac{1}{\\sqrt{6}}\\\\\n",
        "  \\frac{1}{\\sqrt{2}} & \\frac{1}{\\sqrt{6}}\\\\\n",
        "  0 & -\\frac{2}{\\sqrt{6}}\n",
        "  \\end{array}\\right), \\qquad\n",
        "  R = \\left(\\begin{array}{c c}\n",
        "  \\sqrt{2} & \\frac{1}{\\sqrt{2}} \\\\\n",
        "  0 & \\frac{3}{\\sqrt{6}}\n",
        "  \\end{array} \\right)\n",
        "\\end{equation}\n",
        "\n",
        "Além disso, utilize a fatoração QR para resolver o sistema sobredeterminado\n",
        "\n",
        "\\begin{equation}\n",
        "  \\left(\\begin{array}{c c c}\n",
        "  1 & 0\\\\\n",
        "  1 & 1 \\\\\n",
        "  0 & -1\n",
        "  \\end{array}\\right)\n",
        "  \\left(\n",
        "    \\begin{array}{c}\n",
        "    x_1\\\\x_2\n",
        "    \\end{array}\n",
        "  \\right)\n",
        "  =\n",
        "  \\left(\n",
        "    \\begin{array}{c}\n",
        "    1\\\\1\\\\1\n",
        "    \\end{array}\n",
        "  \\right)\n",
        "\\end{equation}\n",
        "\n",
        "e verifique que sua implementação fornece o mesmo resultado (qual?) obtido resolvendo diretamente o sistema normal, como visto em aula."
      ],
      "metadata": {
        "id": "RU5-0tOVkp8y"
      }
    },
    {
      "cell_type": "code",
      "source": [
        "## Matriz A\n",
        "A = np.array([[1,0],[1,1],[0,-1]],dtype=float)\n",
        "\n",
        "## Resultados de referência\n",
        "Q_ref = np.array([[1/np.sqrt(2),-1/np.sqrt(6)],[1/np.sqrt(2),1/np.sqrt(6)],[0,-2/np.sqrt(6)]])\n",
        "R_ref = np.array([[np.sqrt(2),1/np.sqrt(2)],[0,3/np.sqrt(6)]])\n",
        "x_ref = np.matmul(Q_ref.T,np.array([1,1,1]))\n",
        "\n",
        "\n",
        "## Calcular fatoração QR de A\n",
        "# COMPLETAR\n",
        "Q,R = gram_schmidt(A)\n",
        "\n",
        "## Resolver Ax = b por MMQ\n",
        "# COMPLETAR\n",
        "x = resolver_sistema_triangular_superior(R,np.matmul(Q.T,np.array([1,1,1])))\n",
        "\n",
        "## Imprimir e comparar resultados\n",
        "print(\"Q: \\n{}\".format(Q))\n",
        "print(\"R: \\n{}\".format(R))\n",
        "print(\"x: \\n{}\".format(x))\n",
        "print(\"\")\n",
        "print(\"Q_ref: \\n{}\".format(Q_ref))\n",
        "print(\"R_ref: \\n{}\".format(R_ref))\n",
        "print(\"x_ref: \\n{}\".format(x_ref))\n",
        "print(\"\")\n",
        "print(\"Q - Q_ref: \\n{}\".format(Q-Q_ref))\n",
        "print(\"R - R_ref: \\n{}\".format(R-R_ref))\n",
        "print(\"x - x_ref: \\n{}\".format(x-x_ref))"
      ],
      "metadata": {
        "id": "DRp3MPT8koTc",
        "colab": {
          "base_uri": "https://localhost:8080/"
        },
        "outputId": "f42784c7-128b-452a-a3e8-cb1d3fcd75a8"
      },
      "execution_count": null,
      "outputs": [
        {
          "output_type": "stream",
          "name": "stdout",
          "text": [
            "Q: \n",
            "[[ 0.70710678 -0.40824829]\n",
            " [ 0.70710678  0.40824829]\n",
            " [ 0.         -0.81649658]]\n",
            "R: \n",
            "[[1.41421356 0.70710678]\n",
            " [0.         1.22474487]]\n",
            "x: \n",
            "[ 1.33333333 -0.66666667]\n",
            "\n",
            "Q_ref: \n",
            "[[ 0.70710678 -0.40824829]\n",
            " [ 0.70710678  0.40824829]\n",
            " [ 0.         -0.81649658]]\n",
            "R_ref: \n",
            "[[1.41421356 0.70710678]\n",
            " [0.         1.22474487]]\n",
            "x_ref: \n",
            "[ 1.41421356 -0.81649658]\n",
            "\n",
            "Q - Q_ref: \n",
            "[[0.00000000e+00 1.11022302e-16]\n",
            " [0.00000000e+00 5.55111512e-17]\n",
            " [0.00000000e+00 0.00000000e+00]]\n",
            "R - R_ref: \n",
            "[[ 0.00000000e+00  0.00000000e+00]\n",
            " [ 0.00000000e+00 -2.22044605e-16]]\n",
            "x - x_ref: \n",
            "[-0.08088023  0.14982991]\n"
          ]
        }
      ]
    },
    {
      "cell_type": "markdown",
      "source": [
        "# Parte 3 - Resolução do problema\n",
        "\n",
        "Já temos implementadas todas as ferramentas necessárias para a resolução do problema linearizado do GPS usando MMQ.\n",
        "\n",
        "Vamos inicialmente obter os dados do problema. Estão disponíveis dados de quatro receptores, e você utilizará aqules correspondentes ao receptor $i_{rec}$, com $i_{rec}$ definido em função de seu número USP. Para cada receptor, consideraremos a posição fornecida por $n = 7$ satélites. Rode o código abaixo para fazer o download do arquivo com os dados de entrada e para obter os dados correspondentes ao seu valor de $i_{rec}$. Cada linha do arquivo corresponde a um satélite $i$ e possui quatro colunas, correspondendo às suas coordenadas $x_i,y_i,z_i,w_i$.  "
      ],
      "metadata": {
        "id": "Hrw3GQYGtR7M"
      }
    },
    {
      "cell_type": "code",
      "source": [
        "# Leitura do arquivo input_gps_{i_rec}.txt, salvando o conteúdo em input_gps\n",
        "import gdown\n",
        "\n",
        "# nomes dos arquivos\n",
        "file_ids = [\n",
        "              '1kpZoDYPCW-f947rGwtaPZ74RXn5RdbVg',\n",
        "              '1aQwQUD5LATaeqz7CUb2IysWl-jZJeIDM',\n",
        "              '1giXyeQx0WYh3rj43yckhIy_WKaNAuORn',\n",
        "              '1JIRyDnmNdz1TA4wmYnHIaoFsyltZZI62'\n",
        "           ]\n",
        "\n",
        "# seu arquivo\n",
        "file_id = file_ids[irec]\n",
        "\n",
        "## url\n",
        "url = f'https://drive.google.com/uc?id={file_id}&confirm=t'\n",
        "\n",
        "# Download the file\n",
        "gdown.download(url, 'input_gps.txt', quiet=False)\n",
        "\n",
        "# Load it with NumPy\n",
        "import numpy as np\n",
        "meus_dados = np.loadtxt('input_gps.txt')\n",
        "print()\n",
        "\n",
        "# Impressão (restringindo a precisão para caber na tela)\n",
        "for row in meus_dados:\n",
        "    # As duas primeiras colunas são inteiros\n",
        "    print(f\"{int(row[0]):3d} {int(row[1]):3d} \", end=\"\")\n",
        "\n",
        "    # Demais colunas com sete algarismos significativos\n",
        "    print(\" \".join(f\"{val:15.6e}\" for val in row[2:]))"
      ],
      "metadata": {
        "id": "DGRmfWWMtRRt",
        "colab": {
          "base_uri": "https://localhost:8080/"
        },
        "outputId": "744d4ada-5c45-4a66-8759-aae546f85345"
      },
      "execution_count": null,
      "outputs": [
        {
          "output_type": "stream",
          "name": "stderr",
          "text": [
            "Downloading...\n",
            "From: https://drive.google.com/uc?id=1aQwQUD5LATaeqz7CUb2IysWl-jZJeIDM&confirm=t\n",
            "To: /content/input_gps.txt\n",
            "100%|██████████| 693/693 [00:00<00:00, 961kB/s]"
          ]
        },
        {
          "output_type": "stream",
          "name": "stdout",
          "text": [
            "\n",
            "-15237643 -6561298    2.091441e+07    3.069011e+07\n",
            "-3444440 -26380107    2.894201e+06    2.423388e+07\n",
            "2912486 -25014385    8.546328e+06    2.382581e+07\n",
            "-13075174 -16895548    1.569555e+07    2.826600e+07\n",
            "10367775 -12758757    2.119768e+07    2.627340e+07\n",
            "21159876 -16088326    1.981508e+05    2.128391e+07\n",
            "21438233 -1837413    1.586470e+07    2.573184e+07\n"
          ]
        },
        {
          "output_type": "stream",
          "name": "stderr",
          "text": [
            "\n"
          ]
        }
      ]
    },
    {
      "cell_type": "markdown",
      "source": [
        "## Questão 3.1.\n",
        "\n",
        "Utilizando os dados obtidos, construa a matriz $A$ e o vetor $\\mathbf{b}$ do sistema linear sobredeterminado $A \\mathbf{x} = \\mathbf{b}$.\n"
      ],
      "metadata": {
        "id": "WxnCz8H6wU_B"
      }
    },
    {
      "cell_type": "code",
      "source": [
        "## Inicializa a matriz e o vetor com zeros\n",
        "A = np.zeros((meus_dados.shape[0]-1,4))\n",
        "b = np.zeros(meus_dados.shape[0]-1)\n",
        "\n",
        "## Preencher a linha i do sistema linear\n",
        "for i in range(meus_dados.shape[0]-1):\n",
        "  A[i,0] = 2*(meus_dados[meus_dados.shape[0]-1,0] - meus_dados[i,0])## COMPLETAR\n",
        "  A[i,1] = 2*(meus_dados[meus_dados.shape[0]-1,1] - meus_dados[i,1])## COMPLETAR\n",
        "  A[i,2] = 2*(meus_dados[meus_dados.shape[0]-1,2] - meus_dados[i,2])## COMPLETAR\n",
        "  A[i,3] = -2*(meus_dados[meus_dados.shape[0]-1,3] - meus_dados[i,3])## COMPLETAR\n",
        "  b[i]   = meus_dados[meus_dados.shape[0]-1,0]**2 - meus_dados[i,0]**2 + meus_dados[meus_dados.shape[0]-1,1]**2 - meus_dados[i,1]**2 + meus_dados[meus_dados.shape[0]-1,2]**2 - meus_dados[i,2]**2 + meus_dados[i,3]**2 - meus_dados[meus_dados.shape[0]-1,3]**2 ## COMPLETAR\n",
        "\n",
        "## Imprime a matriz e o vetor\n",
        "print(\"A: \\n{}\".format(A))\n",
        "print(\"b: \\n{}\".format(b))"
      ],
      "metadata": {
        "id": "rHhe6bDewkf6",
        "colab": {
          "base_uri": "https://localhost:8080/"
        },
        "outputId": "117a9e22-4ee0-4e9b-e1cd-e2021e59f568"
      },
      "execution_count": null,
      "outputs": [
        {
          "output_type": "stream",
          "name": "stdout",
          "text": [
            "A: \n",
            "[[ 73351752.978        9447770.984      -10099411.678\n",
            "    9916552.27687944]\n",
            " [ 49765346.742       49085389.36        25940998.822\n",
            "   -2995900.87672862]\n",
            " [ 37051492.904       46353943.906       14636746.372\n",
            "   -3812054.46337759]\n",
            " [ 69026815.324       30116271.8           338300.642\n",
            "    5068320.36021337]\n",
            " [ 22140915.106       21842689.83       -10665953.628\n",
            "    1083136.18480674]\n",
            " [   556713.884       28501826.104       31333099.952\n",
            "   -8895855.71062995]]\n",
            "b: \n",
            "[ 2.81769423e+14 -7.63341788e+13 -8.70373190e+13  1.48731733e+14\n",
            "  2.32088216e+13 -2.01073839e+14]\n"
          ]
        }
      ]
    },
    {
      "cell_type": "markdown",
      "source": [
        "## Questão 3.2.\n",
        "\n",
        "Calcule a fatoração QR de $A$ e utilize-a para resolver o sistema normal. A solução do sistema normal é um vetor $\\mathbf{x} = (x,y,z,w)^T$, contendo as coordenadas do receptor."
      ],
      "metadata": {
        "id": "L8G5SHZRxuzd"
      }
    },
    {
      "cell_type": "code",
      "source": [
        "## Resolver o MMQ usando QR\n",
        "Q,R = gram_schmidt(A)\n",
        "x = resolver_sistema_triangular_superior(R,np.matmul(Q.T,b))\n",
        "\n",
        "## Coordenadas do receptor\n",
        "xr = x[0]\n",
        "yr = x[1]\n",
        "zr = x[2]\n",
        "wr = x[3]\n",
        "\n",
        "print(\"x: {}\".format(xr))\n",
        "print(\"y: {}\".format(yr))\n",
        "print(\"z: {}\".format(zr))\n",
        "print(\"w: {}\".format(wr))"
      ],
      "metadata": {
        "id": "wk50d7yRx8cm",
        "colab": {
          "base_uri": "https://localhost:8080/"
        },
        "outputId": "42e781dd-3ed1-462d-bee9-ba51aa6c7708"
      },
      "execution_count": null,
      "outputs": [
        {
          "output_type": "stream",
          "name": "stdout",
          "text": [
            "x: 4003121.614986875\n",
            "y: -4251812.717302605\n",
            "z: -2546900.9979677536\n",
            "w: 260312.01282756473\n"
          ]
        }
      ]
    },
    {
      "cell_type": "markdown",
      "source": [
        "## Questão 3.3.\n",
        "\n",
        "As coordenadas $(x,y,z)$ do receptor devem ser tais que $\\sqrt{x^2 + y^2 + z^2}$ esteja próximo de uma determinada constante. Que constante é essa? Verifique que a solução obtida acima satisfaz essa propriedade, para checar que seus resultados são coerentes.\n",
        "\n",
        "**Resposta**:\n",
        "- Significado físico da constante:\n",
        "- Valor da constante:\n",
        "- Valor obtido:"
      ],
      "metadata": {
        "id": "Z5P4TGhB2vwo"
      }
    },
    {
      "cell_type": "code",
      "source": [
        "## COMPLETAR\n",
        "sqrtr = np.sqrt(xr**2 + yr**2 + zr**2)\n",
        "print(sqrtr)"
      ],
      "metadata": {
        "id": "tiWrMK723u_j",
        "colab": {
          "base_uri": "https://localhost:8080/"
        },
        "outputId": "8aae3cab-a480-4e0c-cc91-56b77c38cae5"
      },
      "execution_count": null,
      "outputs": [
        {
          "output_type": "stream",
          "name": "stdout",
          "text": [
            "6370996.683474291\n"
          ]
        }
      ]
    },
    {
      "cell_type": "markdown",
      "source": [
        "## Questão 3.4.\n",
        "\n",
        "Usando a solução estimada $\\mathbf{x}$, determine $\\max_{1 \\leq i \\leq n-1} |\\tilde{r}_i|$ e $\\max_{1 \\leq i \\leq n-1} |r_i|$, onde $\\tilde{\\mathbf{r}} := \\mathbf{b} - A \\mathbf{x}$ é o resíduo do sistema linear (2) e $\\mathbf{r}$ é o resíduo do sistema não-linear (este último dado pelas equações (1)). Explique em poucas palavras por que esses valores não são nulos.\n",
        "\n",
        "**Resposta:**"
      ],
      "metadata": {
        "id": "sV5jVIbp2h81"
      }
    },
    {
      "cell_type": "code",
      "source": [
        "## Calcular vetor rtil\n",
        "rtil = b - np.matmul(A,x)\n",
        "print(np.max(np.abs(rtil)))\n",
        "\n",
        "## Calcular vetor r\n",
        "r = np.zeros(meus_dados.shape[0]-1)\n",
        "for i in range(meus_dados.shape[0]-1):\n",
        "  r[i] = (meus_dados[i,0]-xr)**2 + (meus_dados[i,1]-yr)**2 + (meus_dados[i,2]-zr)**2 - (meus_dados[i,3]-wr)**2\n",
        "print(np.max(np.abs(r)))"
      ],
      "metadata": {
        "id": "BFWcM-uy_vGc",
        "colab": {
          "base_uri": "https://localhost:8080/"
        },
        "outputId": "e1bc1c7d-b60e-42f7-f82a-10b2243fad88"
      },
      "execution_count": null,
      "outputs": [
        {
          "output_type": "stream",
          "name": "stdout",
          "text": [
            "17265431.40625\n",
            "1021338145.0\n"
          ]
        }
      ]
    },
    {
      "cell_type": "markdown",
      "source": [
        "## Questão 3.5.\n",
        "\n",
        "Determine o erro de sincronia $T = w / c$ do receptor"
      ],
      "metadata": {
        "id": "winGrLyRyMuL"
      }
    },
    {
      "cell_type": "code",
      "source": [
        "T = wr/299792458\n",
        "print(\"T: \\n{}\".format(T))"
      ],
      "metadata": {
        "id": "PKdbr2XcyhaR",
        "colab": {
          "base_uri": "https://localhost:8080/"
        },
        "outputId": "d2082018-0d2f-4eca-99ed-a419d5da9d39"
      },
      "execution_count": null,
      "outputs": [
        {
          "output_type": "stream",
          "name": "stdout",
          "text": [
            "T: \n",
            "0.0008683074102803637\n"
          ]
        }
      ]
    },
    {
      "cell_type": "markdown",
      "source": [
        "## Questão 3.6.\n",
        "\n",
        "Utilizando a solução estimada $\\mathbf{x}$ e assumindo que a Terra seja uma esfere perfeita, determine a latitude e a longitude (coordenadas geográficas) do receptor (como isso pode ser feito?) e localize-o no globo terrestre.\n",
        "\n",
        "**Resposta**:\n",
        "- Latitude:\n",
        "- Longitude:\n",
        "- Localização:"
      ],
      "metadata": {
        "id": "O53s3DbE2xP7"
      }
    },
    {
      "cell_type": "code",
      "source": [
        "## COMPLETAR\n",
        "lat = np.arcsin(zr/sqrtr) * 180/np.pi\n",
        "lon = np.arctan2(yr,xr) * 180/np.pi\n",
        "\n",
        "print(\"Latitude: {}\".format(lat))\n",
        "print(\"Longitude: {}\".format(lon))"
      ],
      "metadata": {
        "id": "_h8oZ-A4lNgq",
        "colab": {
          "base_uri": "https://localhost:8080/"
        },
        "outputId": "29f5f5e1-7fa0-46ba-9fcd-0feb315a9dfd"
      },
      "execution_count": null,
      "outputs": [
        {
          "output_type": "stream",
          "name": "stdout",
          "text": [
            "Latitude: -23.563483497768832\n",
            "Longitude: -46.72559121217399\n"
          ]
        }
      ]
    },
    {
      "cell_type": "code",
      "source": [],
      "metadata": {
        "id": "gq32SEyn4MwV"
      },
      "execution_count": null,
      "outputs": []
    }
  ]
}