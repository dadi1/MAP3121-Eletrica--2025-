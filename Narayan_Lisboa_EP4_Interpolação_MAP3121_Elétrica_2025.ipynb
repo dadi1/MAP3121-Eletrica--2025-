{
  "nbformat": 4,
  "nbformat_minor": 0,
  "metadata": {
    "colab": {
      "provenance": [],
      "toc_visible": true
    },
    "kernelspec": {
      "name": "python3",
      "display_name": "Python 3"
    },
    "language_info": {
      "name": "python"
    }
  },
  "cells": [
    {
      "cell_type": "code",
      "source": [
        "## importamos algumas bibliotecas que serão usadas\n",
        "import numpy as np  # Para um mínimo de matemática\n",
        "import matplotlib.pyplot as plt # Para gráficos\n",
        "from scipy.special import binom # para coeficientes binomiais\n",
        "from numpy.linalg import norm as npnorm # para calcular normas"
      ],
      "metadata": {
        "id": "G7dwA_z_EYex"
      },
      "execution_count": null,
      "outputs": []
    },
    {
      "cell_type": "markdown",
      "source": [
        "# MAP2321 - EP4: Interpolação e Problema de Contorno\n"
      ],
      "metadata": {
        "id": "WDIqGicPYNJ3"
      }
    },
    {
      "cell_type": "markdown",
      "source": [
        "**Nome:** Narayan Shimanoe Lisboa\n",
        "\n",
        "**Número USP:** 14600141\n",
        "\n",
        "**Turma:** 02\n"
      ],
      "metadata": {
        "id": "DbRiXO7aiX9b"
      }
    },
    {
      "cell_type": "markdown",
      "source": [
        "O objetivo deste EP é implementar e aplicar as técnicas de interpolação polinomial, em particular a interpolação de Lagrange na sua forma baricêntrica, e usá-la para a resolução de um problema de contorno.\n",
        "\n",
        "\n",
        "**Orientações:**\n",
        "- Salve uma cópia deste notebook para editá-lo.\n",
        "- Utilize o índice à esquerda para identificar as questões que precisam ser respondidas.\n",
        "- As respostas das questões deverão ser respondidas nos espaços indicados abaixo.\n",
        "- Envie o link do seu notebook na página de entrega da atividade no Moodle da disciplina.\n",
        "- Data limite de entrega:"
      ],
      "metadata": {
        "id": "G8Qd2l61Yo_O"
      }
    },
    {
      "cell_type": "code",
      "source": [],
      "metadata": {
        "id": "6IRnZVUh3T9Y"
      },
      "execution_count": null,
      "outputs": []
    },
    {
      "cell_type": "markdown",
      "source": [
        "<font color='red'>\n",
        "IMPORTANTE: o problema descrito neste EP depende de alguns parâmetros dependentes do seu número USP. Vamos definir $d_1,d_2$ e $d_3$ os três últimos dígitos do seu NUSP.\n",
        "\n",
        "Complete e rode a célula abaixo indicando estes valores.\n",
        "</font>\n",
        "\n"
      ],
      "metadata": {
        "id": "YB2z3hUXiF5B"
      }
    },
    {
      "cell_type": "code",
      "source": [
        "d1 = 1 + 1## COMPLETAR COM O úLTIMO VALOR DO SEU NUSP +1\n",
        "d2 = 4 + 1## COMPLETAR COM O PENúLTIMO VALOR DO SEU NUSP +1\n",
        "d3 = 1 + 1## COMPLETAR COM O ANTIPENúLTIMO VALOR DO SEU NUSP +1"
      ],
      "metadata": {
        "id": "XPz0WSaIjkL0"
      },
      "execution_count": null,
      "outputs": []
    },
    {
      "cell_type": "markdown",
      "source": [
        "#Parte 1 - Interpolação de Lagrange na Forma Baricêntrica"
      ],
      "metadata": {
        "id": "VRR6y81zxEud"
      }
    },
    {
      "cell_type": "markdown",
      "source": [
        "## 1.1. Formulação do problema de interpolação\n",
        "\n",
        "**Problema:**\n",
        "Nesta seção, estamos interessados em discutir e implementar métodos de interpolação polinomial para uma dada tabela de pontos\n",
        "$$\n",
        "    \\begin{array}{c|cccc}\n",
        "        x & x_0 & x_1 & \\dots & x_n \\\\\n",
        "        \\hline\n",
        "        y & y_0 & y_1 & \\dots & y_n\n",
        "    \\end{array} ,\n",
        "$$\n",
        "ou, resumidamente, $\\{(x_i,y_i)\\}_{i=0}^n$, ou seja, queremos encontrar o polinômio $p_n(x)$ (de grau menor ou igual a $n$) tal que, para todo $i=0,\\cdots,n$:\n",
        "\n",
        "$$p_n(x_i)=y_i.$$\n",
        "\n",
        "\n",
        "Para isto, vamos trabalhar com os polinômios de Lagrange,\n",
        "$L_{j}$, que são polinômios de grau $n$ satisfazendo:\n",
        "\n",
        "$$\n",
        "L_j(x_i) \\equiv \\delta_{ij} =\n",
        "\\left\\{\\begin{matrix}\n",
        "1 & i=j \\\\\n",
        "0 & i\\neq j \\\\\n",
        "\\end{matrix}\\right.\n",
        "$$\n",
        "onde $\\delta_{ij}$ é o símbolo chamado de \"delta de Kronecker\". Estas propriedades asseguram que, de modo, geral:\n",
        "\n",
        "$$\n",
        "    p_n(x) = \\sum_{j=0}^n y_j L_j(x)\n",
        "$$\n",
        "\n",
        "Com:\n",
        "\n",
        "$$\n",
        "    L_j(x) = \\prod^n_{\\substack{k = 0 \\\\ k \\ne j}} \\frac{x - x_k}{x_j - x_k}, \\quad 0 \\le j \\le n.\n",
        "$$\n",
        "\n",
        "Esta fórmula de $L_j(x)$ possui alguns problemas numéricos, dentre os quais podemos citar a grande quantidade de operações aritméticas para o cálculo de $p_n(x)$, para um dado $x$, bem como a baixa estabilidade numérica do algoritmo. Para contornar estes problemas, uma forma alternativa foi desenvolvida.\n",
        "\n",
        "**Interpolação Baricêntrica:**\n",
        "O ponto de partida é reescrever o numerador de $L_j(x)$ como sendo $L(x)/(x-x_j)$, onde:\n",
        "$$\n",
        "L(x) = (x - x_0)(x - x_1) \\dots (x - x_n)\n",
        "$$\n",
        "\n",
        "Desta forma, temos:\n",
        "\n",
        "$$L_j(x) = \\omega_j \\frac{L(x)}{x-x_j} $$\n",
        "onde os **pesos baricêntricos** $\\omega_j$ são definidos como\n",
        "\n",
        "$$\n",
        "    \\omega_j = \\frac{1}{\\prod^n_{\\substack{k=0 \\\\ k \\ne j}}(x_j - x_k)} , \\quad 0 \\le j \\le n .\n",
        "$$\n",
        "\n",
        "Desta forma:\n",
        "\n",
        "$$\n",
        "p_n(x) = L(x) \\sum_{j=0}^n y_j \\frac{\\omega_j}{x-x_j}\n",
        "$$\n",
        "\n",
        "Mas, sabemos também que\n",
        "\n",
        "$$\n",
        "    1 = \\sum_{j=0}^n L_j(x) = L(x)\\sum_{j=0}^n \\frac{\\omega_j}{x - x_j}, \\quad \\forall x \\ne x_i,\\ 0 \\le i \\le n,\n",
        "$$\n",
        "\n",
        "Logo, podemos isolar $L(x)$:\n",
        "$$\n",
        "L(x) = \\frac{1}{\\sum_{j=0}^n \\frac{\\omega_j}{x - x_j}}\n",
        "$$\n",
        "\n",
        "Levando a:\n",
        "$$\n",
        "p_n(x) = \\frac{\\sum_{j=0}^n y_j \\frac{\\omega_j}{x-x_j}}{\\sum_{j=0}^n \\frac{\\omega_j}{x - x_j}}\n",
        "$$\n",
        "\n",
        "Podemos ver que são necessárias $O(n^2)$ operações aritméticas para o cálculo dos pesos $\\omega_i$, mas a avaliação do polinômio $p_n(x)$, para um dado $x$ é de ordem $O(n)$.\n",
        "\n",
        "**Casos Específicos:**\n",
        "Há casos em que expressões analíticas para os pesos $\\omega_i$ foram pré-estabelecidas. Podemos citar:\n",
        "\n",
        "> **1)** Pontos igualmente espaçados no intervalo $[a,b]$\n",
        "\\begin{align}\n",
        "    x_i &= a + i\\cdot\\left(\\frac{b-a}{n}\\right), \\quad 0 \\le i \\le n,\\\\\n",
        "    \\omega_j &= (-1)^j \\cdot \\binom{n}{j}, \\quad 0 \\le j \\le n.\n",
        "\\end{align}\n",
        "\n",
        "> **2)** Pontos de Chebyshev do segundo tipo no intervalo $[a, b]$:\n",
        "\\begin{align}\n",
        "    x_i &= \\frac{b+a}{2}-\\frac{b-a}{2} \\cdot \\cos\\left(\\frac{i\\pi}{n}\\right),\\quad 0 \\le i \\le n,\\\\\n",
        "    \\omega_j &= (-1)^j \\cdot d_j,\\ 0 \\le j \\le n, \\text{ com } d_0 = d_n = 0.5,\\ d_j = 1,\\ 1 \\le j \\le n-1.\n",
        "\\end{align}\n",
        "\n",
        "Note que nos dois casos os pesos independem do intervalo $[a,b]$. A diferença em cada intervalo seria um fator de escala comum a todos os pesos, o que não muda o resultado da fórmula baricêntrica.\n",
        "\n",
        "\n",
        "**Referência para a elaboração deste enunciado**:\n",
        "Berrut & Trfethen, *Barycentric Lagrange Interpolation*, SIAM Review 46(3) (2004), pp. 501--517\n"
      ],
      "metadata": {
        "id": "f8ZwmEX7xK3j"
      }
    },
    {
      "cell_type": "markdown",
      "source": [],
      "metadata": {
        "id": "eerUMMGdtr10"
      }
    },
    {
      "cell_type": "markdown",
      "source": [
        "## 1.2. - Implementação Computacional\n",
        "\n",
        "Nesta seção, propomos a implementação de funções necessárias para a realização da interpolação polinomial Lagrangiana nas coordenadas baricêntricas, bem como suas derivadas.\n"
      ],
      "metadata": {
        "id": "lXKPSpsjZdC0"
      }
    },
    {
      "cell_type": "markdown",
      "source": [
        "### Questão 1.2.a\n",
        "Dados pontos arbitrários na reta $\\{x_i\\}_{i=0}^n$, calcule os pesos baricentricos $\\{\\omega_i\\}_{i=0}^n$\n",
        "\n",
        "**Resposta:**\n"
      ],
      "metadata": {
        "id": "r7s-MtJtceQR"
      }
    },
    {
      "cell_type": "code",
      "source": [
        "# Cálculo dos pesos da fórmula baricêntrica\n",
        "def weight_bary(xdata):\n",
        "    # Cálculo dos pesos para a interpolação Lagrangeana baricêntrica.\n",
        "\n",
        "    np1 = np.size(xdata) # n + 1\n",
        "\n",
        "    # Calcule v[j] = prod_{k=0, k!=j}^n (x_k - x_j), 0 <= j <= n\n",
        "    v = np.empty(np1)\n",
        "    for i in range(np1):\n",
        "      v[i] = 1\n",
        "      for j in range(np1):\n",
        "        if i != j:\n",
        "          v[i] = v[i] * (xdata[i] - xdata[j])\n",
        "\n",
        "    return 1.0/v"
      ],
      "metadata": {
        "id": "pPtPASz78cYV"
      },
      "execution_count": null,
      "outputs": []
    },
    {
      "cell_type": "markdown",
      "source": [
        "### Questão 1.2.b\n",
        "Dados pontos equiespacados na reta $\\{x_i\\}_{i=0}^n$, tais que:\n",
        "\\begin{align}\n",
        "    x_i &= a + i\\cdot\\left(\\frac{b-a}{n}\\right), \\quad 0 \\le i \\le n,\\\\\n",
        "    \\omega_j &= (-1)^j \\cdot \\binom{n}{j}, \\quad 0 \\le j \\le n.\n",
        "\\end{align}\n",
        "calcule os pesos baricentricos $\\{\\omega_i\\}_{i=0}^n$\n",
        "\n",
        "**Resposta:**"
      ],
      "metadata": {
        "id": "0Ge3ZgRvhCMB"
      }
    },
    {
      "cell_type": "code",
      "source": [
        "def weight_equi(npoints): # npoints pontos equidistantes (npoints = n+1)\n",
        "    # Retorne um array  de tamanho n+1 cuja componente j é (-1)^j * binom(n,j), j de 0 a n\n",
        "    ### SEU CÓDIGO AQUI\n",
        "\n",
        "    v = np.empty(npoints)\n",
        "    for j in range(npoints):\n",
        "      v[j] = (-1)**j * binom(npoints-1,j)\n",
        "\n",
        "    return v"
      ],
      "metadata": {
        "id": "SEewy9exfZ9t"
      },
      "execution_count": null,
      "outputs": []
    },
    {
      "cell_type": "markdown",
      "source": [
        "### Questão 1.2.c.\n",
        "Dados pontos (de Chebyshev) na reta $\\{x_i\\}_{i=0}^n$, distribuídos , tais que:\n",
        "\\begin{align}\n",
        "    x_i &= \\frac{b+a}{2} -\\frac{b-a}{2} \\cdot \\cos\\left(\\frac{i\\pi}{n}\\right),\\quad 0 \\le i \\le n,\\\\\n",
        "    \\omega_j &= (-1)^j \\cdot d_j,\\ 0 \\le j \\le n, \\text{ com } d_0 = d_n = 0.5,\\ d_j = 1,\\ 1 \\le j \\le n-1.\n",
        "\\end{align}\n",
        "calcule os pesos baricentricos $\\{\\omega_i\\}_{i=0}^n$\n",
        "\n",
        "**Resposta:**"
      ],
      "metadata": {
        "id": "wzxBbHOhotJz"
      }
    },
    {
      "cell_type": "code",
      "source": [
        "def weight_cheby2(npoints): # npoints (n+1) pontos de Chebyshev do segundo tipo\n",
        "    # Retorne um array de tamanho (n+1) com componentes (-1)^j*d_j, 0 <= j <= n,\n",
        "    # em que d_0 = 0.5, d_j = 1, 1 <= j <= n-1, d_n = 0.5\n",
        "    ### SEU CÓDIGO AQUI\n",
        "    v = np.empty(npoints)\n",
        "    for j in range(npoints):\n",
        "      if j == 0 or j == npoints-1:\n",
        "        v[j] = (-1)**j * 0.5\n",
        "      else:\n",
        "        v[j] = (-1)**j * 1\n",
        "\n",
        "    return v"
      ],
      "metadata": {
        "id": "Axf_8_o6oryj"
      },
      "execution_count": null,
      "outputs": []
    },
    {
      "cell_type": "markdown",
      "source": [
        "### Questão 1.2.d\n",
        "Dada uma tabela $\\{(x_i,y_i)\\}_{n=0}^n$, os pesos baricêntricos $\\{\\omega_i\\}_{i=0}^n$ previamente calculados e um ponto $x \\in \\mathbb{R}$, calcule $p_{n}(x)$.\n",
        "\n",
        "\n",
        "\n",
        "\n"
      ],
      "metadata": {
        "id": "LjfJdK28sK0i"
      }
    },
    {
      "cell_type": "code",
      "source": [
        "def eval_bary(x, xdata, ydata, w):\n",
        "    # Cálculo do valor no ponto x do polinômio interpolador\n",
        "    # da tabela (xdata, ydata) usando a fórmula baricêntrica,\n",
        "    # onde os pesos w relativos aos pontos xdata foram\n",
        "    # previamente calculados.\n",
        "    #\n",
        "    # OBSERVAÇÃO: x pode ser escalar ou vetor\n",
        "    nx = np.size(x)\n",
        "    npoints = np.size(xdata)\n",
        "    pn  = np.zeros(nx) # polinomio interpolador em x\n",
        "\n",
        "    sum_num = np.zeros(nx)\n",
        "    sum_den = np.zeros(nx)\n",
        "    is_close = False\n",
        "\n",
        "    for i in range(nx):\n",
        "      for j in range(npoints):\n",
        "        if np.isclose(x[i], xdata[j]):\n",
        "          pn[i] = ydata[j]\n",
        "          is_close = True\n",
        "          break\n",
        "        sum_num[i] += ydata[j] * w[j]/(x[i]-xdata[j])\n",
        "        sum_den[i] += w[j]/(x[i]-xdata[j])\n",
        "\n",
        "      if not is_close:\n",
        "        pn[i] = sum_num[i]/sum_den[i]\n",
        "      is_close = False\n",
        "\n",
        "\n",
        "\n",
        "\n",
        "    if (nx > 1):\n",
        "        return pn # retorna um array\n",
        "    else:\n",
        "        return pn[0] # retorna um escalar\n"
      ],
      "metadata": {
        "id": "owkH8se3tEpz",
        "collapsed": true
      },
      "execution_count": null,
      "outputs": []
    },
    {
      "cell_type": "markdown",
      "source": [
        "### Questão 1.2.e\n",
        "Vamos testas as funções previamente estabelecidas realizando-se a interpolação da seguinte função:\n",
        "\n",
        "$$ f(x) = \\frac{1}{1+(5x/d_1)^2} $$\n",
        "\n",
        "Que será amostrada num intervalo $(-d_1,d_1)$ com $257$ pontos:\n",
        "\n",
        "1) Igualmente espaçados \\\\\n",
        "2) Chebyshev \\\\\n",
        "\n",
        "Qual das estratégias funcionou melhor? Comente.\n",
        "\n",
        "\n",
        "\n"
      ],
      "metadata": {
        "id": "Erze_kkE9Vck"
      }
    },
    {
      "cell_type": "code",
      "source": [
        "def f(x): return 1/(1+(5*x/d1)**2)\n",
        "\n",
        "# partição refinada\n",
        "xx    = np.linspace(-d1, d1, 2048*d1 + 1) # Pontos para gerar gráficos\n",
        "ff    = f(xx) # Valor da função nesses pontos\n",
        "\n",
        "np1 = 257\n",
        "n   = np1 - 1\n",
        "\n",
        "\n",
        "# pontos equiespacados\n",
        "xdE = np.linspace(-d1, d1, np1)\n",
        "ydE = f(xdE)\n",
        "wE  = weight_equi(np1)\n",
        "yy  = eval_bary(xx, xdE, ydE, wE)\n",
        "                   # com nós igualmente espaçados\n",
        "plt.plot(xx, ff, label=\"f(x)\")\n",
        "plt.scatter(xdE, ydE, label=\"tabela\")\n",
        "plt.plot(xx, yy, label=\"pol. interp.\")\n",
        "plt.legend(bbox_to_anchor=(1.04, 1), loc=\"upper left\");"
      ],
      "metadata": {
        "id": "zBj1qtiR9Vco",
        "colab": {
          "base_uri": "https://localhost:8080/",
          "height": 430
        },
        "outputId": "95af06dd-bd43-4ee6-ff77-f5ffdac61740"
      },
      "execution_count": null,
      "outputs": [
        {
          "output_type": "display_data",
          "data": {
            "text/plain": [
              "<Figure size 640x480 with 1 Axes>"
            ],
            "image/png": "[encoded data removed]"
          },
          "metadata": {}
        }
      ]
    },
    {
      "cell_type": "code",
      "source": [
        "# pontos de Chebyshev do segundo tipo\n",
        "xdC = - d1 * np.cos(np.arange(n+1)*np.pi/n);\n",
        "ydC = f(xdC)\n",
        "wC  = weight_cheby2(np1)\n",
        "yy  = eval_bary(xx, xdC, ydC, wC)\n",
        "                   # com nós de Chebyshev do segundo tipo\n",
        "plt.plot(xx, ff, label=\"f(x)\")\n",
        "plt.scatter(xdC, ydC, label=\"tabela\")\n",
        "plt.plot(xx, yy, label=\"pol. interp.\")\n",
        "plt.legend(bbox_to_anchor=(1.04, 1), loc=\"upper left\");\n",
        "\n"
      ],
      "metadata": {
        "id": "Dfe_tG03oIY1",
        "colab": {
          "base_uri": "https://localhost:8080/",
          "height": 430
        },
        "outputId": "a435bec5-be66-45b3-b6f3-48b75f428aed"
      },
      "execution_count": null,
      "outputs": [
        {
          "output_type": "display_data",
          "data": {
            "text/plain": [
              "<Figure size 640x480 with 1 Axes>"
            ],
            "image/png": "[encoded data removed]"
          },
          "metadata": {}
        }
      ]
    },
    {
      "cell_type": "markdown",
      "source": [
        "#Parte 2 - Derivação e Problema de Contorno"
      ],
      "metadata": {
        "id": "zTxmRLuior2Q"
      }
    },
    {
      "cell_type": "markdown",
      "source": [
        "## 2.1. Derivação dos polinômios interpoladores\n",
        "\n",
        "**Problema:**\n",
        "Nesta seção, estamos interessados em calcular as derivadas, nos pontos de interpolação, do polinomio interpolador, passando pelas derivadas dos polinomios de Lagrange $L_j(x)$ escritos na forma baricentrica. Esta informação será usada na seção seguinte, em que resolveremos um problema de contorno, envolvendo uma Equação Diferencial Ordinária, descrevendo uma relação entre uma dada função e suas derivadas.\n",
        "\n",
        "Seja $p_n(x)$ o polinomio interpolador dado por:\n",
        "$$\n",
        "p_n(x) = \\sum_{j=0}^n y_j L_j(x)\n",
        "$$\n",
        "A primeira e segunda derivadas desta função podem ser calculadas por:\n",
        "$$\n",
        "p_n'(x) = \\sum_{j=0}^n y_j L_j'(x), \\;\\;\\; p_n''(x) = \\sum_{j=0}^n y_j L_j''(x)\n",
        "$$\n",
        "\n",
        "Vamos denotar por $D^{(1)}$ e $D^{(2)}$ as matrizes cujas entradas são:\n",
        "$$D^{(1)}_{ij} = L'_j(x_i), \\;\\;\\;  D^{(2)}_{ij} = L''_j(x_i)$$\n",
        "\n",
        "É possível mostrar que, se $i \\neq j$:\n",
        "$$L'_j(x_i) = \\frac{\\omega_j / \\omega_i}{x_i-x_j}$$\n",
        "$$L''_j(x_i) = -2 \\frac{\\omega_j / \\omega_i}{x_i-x_j} \\left( \\sum_{k=0,k\\neq i}^n \\frac{\\omega_k / \\omega_i}{x_i-x_k} + \\frac{1}{x_i-x_j} \\right) $$\n",
        "\n",
        "E:\n",
        "$$L'_i(x_i) = - \\sum_{j=0,j\\neq i}^n L'_j(x_i)$$\n",
        "$$L''_i(x_i) = - \\sum_{j=0,j\\neq i}^n L''_j(x_i)$$\n",
        "\n",
        "Observe que\n",
        "\n",
        "$$\n",
        "  p_n'(x) = \\sum_{i=0}^ny_i'L_i(x),\\quad p_n''(x) = \\sum_{i=0}^n y_i''L_i(x)\n",
        "$$\n",
        "\n",
        "em que\n",
        "\n",
        "$$\n",
        "  y_i' = \\sum_{j=0}^nD_{ij}^{(1)}y_j,\\quad y_i'' = \\sum_{j=0}^nD_{ij}^{(2)}y_j,\\quad 0\\le i\\le n.\n",
        "$$\n",
        "\n",
        "Podemos então avaliar $p_n'(x)$ e $p_n''(x)$ em qualquer ponto $x$ usando a fórmula baricêntrica com $y_j'$ e $y_j''$, respectivamente, no lugar de $y_j$.\n",
        "\n",
        "**Referência para a elaboração deste enunciado**:\n",
        "Berrut & Trfethen, *Barycentric Lagrange Interpolation*, SIAM Review 46(3) (2004), pp. 501--517\n"
      ],
      "metadata": {
        "id": "uq14jo0wor2T"
      }
    },
    {
      "cell_type": "markdown",
      "source": [],
      "metadata": {
        "id": "wifyaBejor2V"
      }
    },
    {
      "cell_type": "markdown",
      "source": [
        "## 2.2. - Implementação Computacional\n",
        "\n",
        "Nesta seção, propomos a implementação de funções necessárias para o cálculo das matrizes de derivação $D^{(1)}$ e $D^{(2)}$.\n"
      ],
      "metadata": {
        "id": "7sEzNQfgor2V"
      }
    },
    {
      "cell_type": "markdown",
      "source": [
        "### Questão 2.2.a\n",
        "Dados pontos arbitrários na reta $\\{x_i\\}_{i=0}^n$ e seus respectivos pesos baricêntricos $\\{\\omega_i\\}_{i=0}^n$, calcule a matriz $D^{(1)}_{ij} = L_j'(x_i)$\n",
        "\n",
        "**Resposta:**\n"
      ],
      "metadata": {
        "id": "bYStksV6or2V"
      }
    },
    {
      "cell_type": "code",
      "source": [
        "def matriz_derivada_1(xdata, w):\n",
        "    # Dados as abscissas xdata da tabela e os pesos baricêntricos previamente\n",
        "    # calculados, esta função obtém os coeficientes da matriz de derivação\n",
        "    # D1 para a primeira derivada.\n",
        "\n",
        "    np1 = np.size(xdata)       # n + 1\n",
        "    D1 = np.empty((np1, np1))  # aloca memória para D1\n",
        "    for i in range(np1):\n",
        "      for j in range(np1):\n",
        "        if i != j:\n",
        "          D1[i,j] = w[j] / w[i] / (xdata[i] - xdata[j])\n",
        "        else:\n",
        "          D1[i,j] = 0\n",
        "          for k in range(np1):\n",
        "            if k != i:\n",
        "              D1[i,j] -= w[k] / w[i] / (xdata[i] - xdata[k])\n",
        "\n",
        "    return D1"
      ],
      "metadata": {
        "id": "iOxatCv3or2V"
      },
      "execution_count": null,
      "outputs": []
    },
    {
      "cell_type": "markdown",
      "source": [
        "### Questão 2.2.b\n",
        "Dados pontos arbitrários na reta $\\{x_i\\}_{i=0}^n$ e seus respectivos pesos baricêntricos $\\{\\omega_i\\}_{i=0}^n$, calcule a matriz $D^{(2)}_{ij} = L_j''(x_i)$\n",
        "\n",
        "**Resposta:**"
      ],
      "metadata": {
        "id": "5wPsTE-Vor2W"
      }
    },
    {
      "cell_type": "code",
      "source": [
        "def matriz_derivada_2(xdata, w):\n",
        "    # Dados:\n",
        "    # xdata - ordenadas da tabela\n",
        "    # w     - pesos baricêntricos\n",
        "    #\n",
        "    # Calcula: matriz de derivação d2 para a segunda derivada\n",
        "    D1 = matriz_derivada_1(xdata,w)\n",
        "\n",
        "    return D1@D1"
      ],
      "metadata": {
        "id": "Mu2dkfJqor2W"
      },
      "execution_count": null,
      "outputs": []
    },
    {
      "cell_type": "markdown",
      "source": [
        "### Questão 2.2.c\n",
        "Calcule a primeira e segunda derivadas da função\n",
        "$$f(x)=\\frac{1}{1+(5x/d_1)^2}$$\n",
        "No intervalo anteriormente determinado, com a mesma quantidade de pontos de interpolação. Realize esta operação nos pontos equiespaçados e nos pontos de Chebyshev.\n",
        "\n",
        "\n",
        "**Resposta:**"
      ],
      "metadata": {
        "id": "Y-ucRwA0k8RM"
      }
    },
    {
      "cell_type": "code",
      "source": [
        "def df(x):\n",
        "\n",
        "  return -50*x/((d1 * (1 + (5*x/d1)**2))**2)\n",
        "\n",
        "def d2f(x):\n",
        "  ### SEU CÓDIGO AQUI\n",
        "\n",
        "  return  -50/((d1 * (1 + (5*x/d1)**2))**2) + 5000*x**2/(d1 ** 4 * ((1 + (5*x/d1)**2))**3)\n",
        "\n",
        "# partição refinada\n",
        "xx    = np.linspace(-d1, d1, 2048*d1 + 1) # Pontos para gerar gráficos\n",
        "ff    = f(xx) # Valor da função nesses pontos\n",
        "dff   = df(xx) # Valor da derivada função nesses pontos\n",
        "d2ff  = d2f(xx) # Valor da derivada segunda da função nesses pontos\n",
        "\n",
        "# pontos equiespacados\n",
        "xdE  = np.linspace(-d1, d1, np1)\n",
        "ydE  = f(xdE)\n",
        "wE  = weight_equi(np1)\n",
        "yy  = eval_bary(xx, xdE, ydE, wE)\n",
        "                   # com nós igualmente espaçados\n",
        "D1   = matriz_derivada_1(xdE, wE)\n",
        "D2   = matriz_derivada_2(xdE, wE)\n",
        "dydE = np.dot(D1, ydE)\n",
        "d2ydE= np.dot(D2, ydE)\n",
        "plt.plot(xx, ff , label=\"f(x)\")\n",
        "plt.scatter(xdE, ydE, label=\"tabela\")\n",
        "plt.plot(xx, dff, label=\"f'(x)\")\n",
        "plt.scatter(xdE, dydE, label=\"$D^{(1)} \\cdot Y$\")\n",
        "plt.plot(xx, d2ff, label=\"f''(x)\")\n",
        "plt.scatter(xdE,d2ydE, label=\"$D^{(2)} \\cdot Y$\")\n",
        "plt.legend(bbox_to_anchor=(1.04, 1), loc=\"upper left\");"
      ],
      "metadata": {
        "id": "W1v5UMP9l0Hh",
        "colab": {
          "base_uri": "https://localhost:8080/",
          "height": 445
        },
        "outputId": "6a8e2ddf-8daf-4f7d-c1f7-5837395ff9ea"
      },
      "execution_count": null,
      "outputs": [
        {
          "output_type": "display_data",
          "data": {
            "text/plain": [
              "<Figure size 640x480 with 1 Axes>"
            ],
            "image/png": "[encoded data removed]"
          },
          "metadata": {}
        }
      ]
    },
    {
      "cell_type": "code",
      "source": [
        "# pontos de Chebyshev do segundo tipo\n",
        "xdC  = - d1 * np.cos(np.arange(n+1)*np.pi/n);\n",
        "ydC  = f(xdC)\n",
        "wC  = weight_cheby2(np1)\n",
        "yy  = eval_bary(xx, xdC, ydC, wC)\n",
        "                   # com nós de Chebyshev do segundo tipo\n",
        "D1   = matriz_derivada_1(xdC, wC)\n",
        "D2   = matriz_derivada_2(xdC, wC)\n",
        "dydC = np.dot(D1, ydC)\n",
        "d2ydC= np.dot(D2, ydC)\n",
        "plt.plot(xx, ff , label=\"f(x)\")\n",
        "plt.scatter(xdC, ydC, label=\"tabela\")\n",
        "plt.plot(xx, dff, label=\"f'(x)\")\n",
        "plt.scatter(xdC, dydC, label=\"$D^{(1)} \\cdot Y$\")\n",
        "plt.plot(xx, d2ff, label=\"f''(x)\")\n",
        "plt.scatter(xdC,d2ydC, label=\"$D^{(2)} \\cdot Y$\")\n",
        "plt.legend(bbox_to_anchor=(1.04, 1), loc=\"upper left\");\n"
      ],
      "metadata": {
        "id": "cUrfntlApDAX",
        "colab": {
          "base_uri": "https://localhost:8080/",
          "height": 430
        },
        "outputId": "cbf48fe6-5701-48ae-a1a5-1bf7f31c89c8"
      },
      "execution_count": null,
      "outputs": [
        {
          "output_type": "display_data",
          "data": {
            "text/plain": [
              "<Figure size 640x480 with 1 Axes>"
            ],
            "image/png": "[encoded data removed]"
          },
          "metadata": {}
        }
      ]
    },
    {
      "cell_type": "markdown",
      "source": [
        "## 2.3. Formulação do problema de contorno\n",
        "\n",
        "**Problema:**\n",
        "Nesta seção, estamos interessados em resolver o seguinte problema de contorno:\n",
        "\n",
        "$$-u''(x) + p(x)u'(x) + q(x)u(x) = f(x), \\;\\;\\; x \\in (a,b)$$\n",
        "\n",
        "Com:\n",
        "$$u(a) = \\alpha, \\;\\;\\; u(b) = \\beta$$\n",
        "\n",
        "Onde as funções $q=q(x), p=p(x), f=f(x)$ são suaves em $(a,b)$.\n",
        "\n",
        "Vamos procurar a solução $u=u(x)$ num espaço vetorial a dimensão $m$ de funções definidas em $[a,b]$, satisfazendo as condições de contorno e tal que ela satisfaz exatamente a equação diferencial nos pontos de **colocação**\n",
        "\n",
        "$$-u''(x_i) + p(x_i)u'(x_i) + q(x_i)u(x_i) = f(x_i)$$\n",
        "\n",
        "Em seguida, vamos utilizar a partição\n",
        "\n",
        "$$a = x_0 < x_1 < \\cdots < x_{n-1} < x_n = b $$\n",
        "onde $\\{x_i\\}_{i=1}^{n-1}$ são os pontos de colocação que serão utilizados. Vamos aproximar a função $u(x)$ por um polinômio $y(x)$ de grau $n$:\n",
        "\n",
        "$$y(x) = \\sum_{j=0}^n y_j L_j(x) $$\n",
        "\n",
        "Impondo as condições de contorno, temos que $y_0=\\alpha$ e $y_{n} = \\beta$, e os valores $y_1,\\cdots , y_{n-1}$ são determinados por:\n",
        "\n",
        "$$\\sum_{j=1}^{n-1} \\left( -L_j''(x_i) + p(x_i) L_j'(x_i) + q(x_i) L_j(x_i) \\right) y_j = f(x_i) - \\alpha ( - L_0''(x_i) + p(x_i) L_0'(x_i) + q(x_i) L_0(x_i)) - \\beta ( - L_n''(x_i)  + p(x_i) L_n'(x_i) + q(x_i) L_n(x_i)), \\;\\;\\; i = 1, \\cdots,n-1 $$\n",
        "\n",
        "Ou então, em termos das matrizes calculadas anteriormente, e lembrando que $L_j(x_i)=0$ se $i\\neq j$ e 1 se $i=j$:\n",
        "\n",
        "$$\\sum_{j=1}^{n-1} \\left( -D^{(2)}_{ij} + p(x_i) D^{(1)}_{ij} \\right) y_j + q(x_i) y_i = f(x_i) - \\alpha (-D^{(2)}_{i,0} + p(x_i) D^{(1)}_{i,0} )  - \\beta (-D^{(2)}_{i,n} + p(x_i) D^{(1)}_{i,n}), \\;\\;\\; i = 1, \\cdots,n-1 $$\n",
        "\n",
        "\n",
        "Este é um sistema linear a $n-1$ equações com $n-1$ incógnitas ($y_1,\\cdots,y_{n-1}$), que pode ser escrito como:\n",
        "$$\n",
        "A \\mathbf{x} = \\mathbf{b}\n",
        "$$\n",
        "\n",
        "**Referência para a elaboração deste enunciado**:\n",
        "Berrut & Trfethen, *Barycentric Lagrange Interpolation*, SIAM Review 46(3) (2004), pp. 501--517\n"
      ],
      "metadata": {
        "id": "k4E4lqaAVwio"
      }
    },
    {
      "cell_type": "markdown",
      "source": [
        "### Questão 1.3.a\n",
        "Vamos considerar o problema do potencial eletrostático\n",
        "$$\n",
        "\\frac{\\partial^2 u}{\\partial x_1^2} + \\frac{\\partial^2 u}{\\partial x_2^2} + \\frac{\\partial^2 u}{\\partial x_3^2} = 0\n",
        "$$\n",
        "Que deve ser resolvido numa casca esférica homogênea de raio interno $R_1=\\min\\{d_1,d_2\\}$ e externo $R_2=\\max\\{d_1,d_2\\} + 1$. Na parte interna, aplica-se o potencial $V_0=d_3$ e aterra-se a parte externa:\n",
        "$$\n",
        "u(R_1) = V_0, \\;\\;\\; u(R_2) = 0\n",
        "$$\n",
        "Como o problema possui uma simetria esférica, sendo homogêneo nas coordenadas zenitas e azimutais, podemos chegar no seguinte problema de contorno:\n",
        "\n",
        "$$\n",
        "u''(r) + \\frac{2}{r}u'(r) = 0, \\;\\;\\; R_1 \\leq r \\leq R_2\n",
        "$$\n",
        "Com:\n",
        "$$\n",
        "u(R_1) = V_0, \\;\\;\\; u(R_2) = 0\n",
        "$$\n",
        "\n",
        "Encontre a aproximação para a solução do problema através do método de colocação discutido anteriormente utilizando-se uma partição:\n",
        "\n",
        "1) Igualmente espaçada \\\\\n",
        "$$\n",
        "r_i = R_1 + i * h, \\;\\;\\; 0 \\le i \\le n, \\;\\;\\; h=\\frac{R_2-R_1}{n}\n",
        "$$\n",
        "2) Chebyshev \\\\\n",
        "$$\n",
        "x_i = \\frac{R_2+R_1}{2}-\\frac{R_2-R_1}{2} \\cdot \\cos\\left(\\frac{i\\pi}{n}\\right),\\quad 0 \\le i \\le n\n",
        "$$\n",
        "\n",
        "onde $n$ já foi definido anteriormente.\n",
        "\n",
        "**Resposta:**\n"
      ],
      "metadata": {
        "id": "Z8UlsG1taSMc"
      }
    },
    {
      "cell_type": "markdown",
      "source": [],
      "metadata": {
        "id": "cLpYntTGvwq_"
      }
    },
    {
      "cell_type": "code",
      "source": [
        "### Definindo funções auxiliares para resolver o problema, o problema está\n",
        "### ná próxima célula.\n",
        "def permutacao_matrix(M, p, q):\n",
        "  \"\"\"\n",
        "  Permuta as linhas \"p\" e \"q\" da matriz \"M\"\n",
        "\n",
        "  Entradas:\n",
        "  - M: Matrix R^{m,n}\n",
        "  - p,q: indices das linhas a serem permutadas\n",
        "\n",
        "  Saídas:\n",
        "  - M_perm: matriz cujas linhas foram permutadas\n",
        "  \"\"\"\n",
        "\n",
        "  Lp = np.copy(M[q,:])\n",
        "  Lq = np.copy(M[p,:])\n",
        "  M_perm = np.copy(M)\n",
        "  M_perm[p,:] = Lp\n",
        "  M_perm[q,:] = Lq\n",
        "\n",
        "  return M_perm\n",
        "\n",
        "\n",
        "def op_elem_matrix(M, i, p, m):\n",
        "  \"\"\"\n",
        "  Realiza a operação elementar L_i <- L_i - m * L_p\n",
        "\n",
        "  Entradas:\n",
        "  - M: Matrix R^{m,n}\n",
        "  - p: indice da linha usada para anular a linha \"L_i\" (base)\n",
        "  - i: Indice da linha (\"L_i\") cujo  a serem permutadas (alvo)\n",
        "\n",
        "  Saídas:\n",
        "  - M_modif: m\n",
        "\n",
        "  \"\"\"\n",
        "  M_modif = np.copy(M)\n",
        "  Lp = M[p,:]\n",
        "  Li = M[i,:] - m*Lp\n",
        "  M_modif[i,:] = Li\n",
        "\n",
        "  return M_modif\n",
        "\n",
        "def el_Gaussiana(M):\n",
        "  \"\"\"\n",
        "  Realiza a eliminação Gaussiana na matriz M \"m x n\"\n",
        "  Vamos armazenar tambem os multiplicadores\n",
        "\n",
        "  Entradas:\n",
        "  - M: Matrix R^{m,n}\n",
        "\n",
        "  Saídas:\n",
        "  - M_modif: matriz triangular (triangulo inferior com multiplicadores)\n",
        "  \"\"\"\n",
        "\n",
        "  (n,m) = M.shape\n",
        "\n",
        "  # tolerancia para tomarmos um valor como \"zero\"\n",
        "  tol = 1.e-8\n",
        "\n",
        "  for p in range(0,n):\n",
        "\n",
        "    # Verificmos se o pivo e nulo. Se sim, realizamos permutacao de linhas\n",
        "    if abs(M[p,p]) < tol:\n",
        "      for i in range(1,n-p):\n",
        "        if abs(M[p+i,p]) > tol:\n",
        "          M = permutacao_matrix(M,p,p+i)\n",
        "          break\n",
        "      # Vamos trocar a linha com a próxima, tal que seu pivô seja não-nulo\n",
        "\n",
        "\n",
        "    for q in range(p+1,n):\n",
        "      m = M[q,p] / M[p,p]\n",
        "      M_new = op_elem_matrix(M,q,p,m)\n",
        "      M = np.copy(M_new)\n",
        "\n",
        "  return M\n",
        "\n",
        "def res_triangular_superior(U,d):\n",
        "  \"\"\"\n",
        "  Resolve o sistema, suposto triangular superior, U x = d\n",
        "\n",
        "  Entradas:\n",
        "  - U: Matriz R^{n,n}\n",
        "  - d: Matriz R^{n,k}\n",
        "\n",
        "  Saídas:\n",
        "  - x: Matriz de solucao, R^{n,k} (um poara cada coluna em \"d\")\n",
        "  \"\"\"\n",
        "\n",
        "  x   = np.copy(d)\n",
        "  rhs = np.copy(x)\n",
        "\n",
        "  (n,k) = d.shape\n",
        "\n",
        "  for l in range(0,k):\n",
        "      for i in range(n-1,-1,-1):\n",
        "          # vamos calcular o termo forcante (rhs, \"right-hand-side\")\n",
        "\n",
        "          # em seguida, vamos calcular a solução\n",
        "          for j in range(i + 1, n):\n",
        "            rhs[i,l] -= U[i, j] * x[j, l]\n",
        "          x[i, l] = rhs[i,l] / U[i, i]\n",
        "  return x"
      ],
      "metadata": {
        "id": "L1prYzNFBzJk"
      },
      "execution_count": null,
      "outputs": []
    },
    {
      "cell_type": "code",
      "source": [
        "\n",
        "R1 = np.min([d1,d2])\n",
        "R2 = np.max([d1,d2]) + 1\n",
        "V0 = d3\n",
        "h  = (R2-R1)/ n\n",
        "\n",
        "def uex(x): return (V0*R1/x)*(R2-x)/(R2-R1) # solução exata\n",
        "rr = np.linspace(R1, R2, 10241) # Pontos para gerar gráficos\n",
        "uu = uex(rr) # Valor da função nesses pontos\n",
        "interior = np.arange(1, np1-1)\n",
        "# Equiespacados\n",
        "rE  = np.linspace(R1, R2, np1)\n",
        "wE  = weight_equi(np1)\n",
        "D1E = matriz_derivada_1(rE, wE)\n",
        "D2E = matriz_derivada_2(rE, wE)\n",
        "AE = np.zeros((np1-2, np1-2))\n",
        "bE = np.zeros( np1-2 )\n",
        "for m,i in enumerate(interior):\n",
        "    for k,j in enumerate(interior):\n",
        "        AE[m,k] = D2E[i,j] + (2/rE[i]) * D1E[i,j]\n",
        "    bE[m] = -V0 * ( D2E[i,0] + (2/rE[i]) * D1E[i,0] )\n",
        "ME = np.column_stack((AE, bE))\n",
        "ME = el_Gaussiana(ME)\n",
        "\n",
        "(rows, cols) = ME.shape\n",
        "yE  = res_triangular_superior(ME[0:rows,0:rows], ME[0:rows,rows:cols])\n",
        "# Para isto, utilize as funções de eliminação de Gauss desenvolvidas no EP2\n",
        "yE2 = [V0] + list(yE.flatten()) + [0]\n",
        "\n",
        "# Chebyshev\n",
        "# pontos de Chebyshev do segundo tipo\n",
        "rC  = (R2+R1)/2. - (R2-R1)/2. * np.cos(np.arange(np1)*np.pi/n);\n",
        "wC  = weight_cheby2(np1)\n",
        "D1C = matriz_derivada_1(rC, wC)\n",
        "D2C = matriz_derivada_2(rC, wC)\n",
        "AC = np.zeros((np1-2, np1-2))\n",
        "bC = np.zeros( np1-2 )\n",
        "for m,i in enumerate(interior):\n",
        "    for k,j in enumerate(interior):\n",
        "        AC[m,k] = D2C[i,j] + (2/rC[i]) * D1C[i,j]\n",
        "    bC[m] = -V0 * ( D2C[i,0] + (2/rC[i]) * D1C[i,0] )\n",
        "\n",
        "MC = np.column_stack((AC, bC))\n",
        "MC = el_Gaussiana(MC)\n",
        "\n",
        "(rows, cols) = MC.shape\n",
        "yC  = res_triangular_superior(MC[0:rows,0:rows], MC[0:rows,rows:cols])\n",
        "# Para isto, utilize as funções de eliminação de Gauss desenvolvidas no EP2\n",
        "yC2 = [V0] + list(yC.flatten()) + [0]\n",
        "# logo após reconstruir yE2 e yC2:\n",
        "\n",
        "plt.plot(rr, uu , label=\"$u_{ex}(x)$\")\n",
        "plt.scatter(rE, np.array(yE2, dtype=float), label=\"$y_E$\")\n",
        "plt.scatter(rC, np.array(yC2, dtype = float), label=\"$y_C$\")\n",
        "plt.legend(bbox_to_anchor=(1.04, 1), loc=\"upper left\");\n",
        "\n",
        "\n",
        "\n",
        "\n"
      ],
      "metadata": {
        "id": "uGNyET7Uor2Y",
        "colab": {
          "base_uri": "https://localhost:8080/",
          "height": 430
        },
        "outputId": "3b40384f-d7b7-4bdd-d70f-a15fce82cf20"
      },
      "execution_count": null,
      "outputs": [
        {
          "output_type": "display_data",
          "data": {
            "text/plain": [
              "<Figure size 640x480 with 1 Axes>"
            ],
            "image/png": "[encoded data removed]"
          },
          "metadata": {}
        }
      ]
    }
  ]
}